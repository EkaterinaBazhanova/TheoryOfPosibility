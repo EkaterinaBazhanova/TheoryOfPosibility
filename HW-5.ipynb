{
 "cells": [
  {
   "cell_type": "code",
   "execution_count": 226,
   "metadata": {},
   "outputs": [],
   "source": [
    "import numpy as np\n",
    "import pandas as pd\n",
    "from scipy import stats\n",
    "from matplotlib import pyplot as plt"
   ]
  },
  {
   "cell_type": "markdown",
   "metadata": {},
   "source": [
    "# Домашняя работа №5"
   ]
  },
  {
   "cell_type": "markdown",
   "metadata": {},
   "source": [
    "**№1.** Известно, что генеральная совокупность распределена нормально с известным средним квадратическим отклонением 16. Найти доверительный интервал для оценки математического ожидания mu с надёжностью 0.95, если выборочное среднее равно 80, а объём равен 256."
   ]
  },
  {
   "cell_type": "markdown",
   "metadata": {},
   "source": [
    "**1 способ (ручной)**. По условию задачи: $X\\sim N(\\mu, 16)$, $\\gamma = 0.95$, $\\overline{x_B} = 80$, $n = 256$. Найдем доверительный интервал.\n",
    "\n",
    "1) Так как $2\\cdot \\Phi(t_{\\gamma}) = \\gamma$, то $\\Phi(t_{\\gamma}) = \\frac{\\gamma}{2} = \\frac{0.95}{2} = 0.475$. Отсюда по таблице значений функции Лапласа $t_{\\gamma} = 1.96$ -- коэффициент доверия.\n",
    "\n",
    "2) Так как $\\delta = \\frac{t_{\\gamma}\\cdot \\sigma}{\\sqrt{n}}$, то $\\delta = \\frac{1.96\\cdot 16}{\\sqrt{256}} = 1.96$ -- точность.\n",
    "\n",
    "3) Доверительный интервал: $(\\overline{x_B} - \\delta; \\overline{x_B} + \\delta) = (80 - 1.96; 80 + 1.96) = (78.04; 81.96)$."
   ]
  },
  {
   "cell_type": "markdown",
   "metadata": {},
   "source": [
    "**2 способ (с помощью Python)**. Дано:"
   ]
  },
  {
   "cell_type": "code",
   "execution_count": 227,
   "metadata": {},
   "outputs": [],
   "source": [
    "n = 256 # объем выборки\n",
    "mean = 80 # выборочное среднее\n",
    "std = 16 # среднее квадратическое отклонение"
   ]
  },
  {
   "cell_type": "code",
   "execution_count": 228,
   "metadata": {},
   "outputs": [
    {
     "data": {
      "text/plain": [
       "(-1.959963984540054, 1.959963984540054)"
      ]
     },
     "execution_count": 228,
     "metadata": {},
     "output_type": "execute_result"
    }
   ],
   "source": [
    "gamma = 0.95 # надежность (уровень доверия)\n",
    "alpha = 1 - gamma\n",
    "\n",
    "#коэффициент доверия\n",
    "t1 = stats.norm.ppf(alpha / 2)\n",
    "t2 = stats.norm.ppf(1 - alpha / 2)\n",
    "\n",
    "t1, t2"
   ]
  },
  {
   "cell_type": "markdown",
   "metadata": {},
   "source": [
    "Доверительный интервал:"
   ]
  },
  {
   "cell_type": "code",
   "execution_count": 229,
   "metadata": {},
   "outputs": [
    {
     "data": {
      "text/plain": [
       "(78.04003601545995, 81.95996398454005)"
      ]
     },
     "execution_count": 229,
     "metadata": {},
     "output_type": "execute_result"
    }
   ],
   "source": [
    "(mean + t1 * std / np.sqrt(n), mean + t2 * std / np.sqrt(n))"
   ]
  },
  {
   "cell_type": "markdown",
   "metadata": {},
   "source": [
    "**№2.** Продавец утверждает, что средний вес пачки печенья составляет 200 г. Из партии извлечена выборка из 10 пачек. Вес каждой пачки составляет:\n",
    "\n",
    "202, 203, 199, 197, 195, 201, 200, 204, 194, 190\n",
    "\n",
    "Известно, что их веса распределены нормально.\n",
    "1. Верно ли утверждение продавца, если учитывать, что уровень значимости равен 1%?\n",
    "2. Найдите P-значение для данного теста."
   ]
  },
  {
   "cell_type": "markdown",
   "metadata": {},
   "source": [
    "**1 способ (ручной)**. По условию задачи: $X\\sim N(\\mu, \\sigma)$, $\\alpha = 0.01$, $n = 10$.\n",
    "    \n",
    "Нулевая гипотеза: $H_0: \\mu = \\mu_0 = 200$.\n",
    "\n",
    "Альтернативная гипотеза: $H_1: \\mu < \\mu_0$.\n",
    "\n",
    "Используемый критерий: $T = \\frac{(\\overline{x} - \\mu)\\sqrt{n}}{s}$ имеет распределение Стьюдента со степенями свободы $k = n-1 = 10-1 = 9$.\n",
    "\n",
    "1) Найдем выборочное среднее и исправленное среднее квадратическое отклонение:\n",
    "\n",
    "$\\overline{x} = \\frac{1}{n}\\Sigma_{i=1}^{n}x_i = 198.5$,\n",
    "\n",
    "$D_x = \\frac{1}{n-1}\\Sigma_{i=1}^{n}(x_i-\\overline{x})^2 = 19.833$,\n",
    "\n",
    "$s = \\sqrt{D_x} = 4.45$.\n",
    "\n",
    "2) Определяем критическую область:\n",
    "\n",
    "По таблице критических точек распределения Стьюдента (односторонняя критическая область)\n",
    "\n",
    "$t_{krit} = t(k, \\alpha) = t(9, 0.01) = 2.82$.\n",
    "\n",
    "В силу выбора альтернативной гипотезы (рассматриваем меньшие значения), имеем следующую критическую область: $(-\\infty; -2.82)$.\n",
    "\n",
    "3) Вычисляем наблюдаемое значение:\n",
    "\n",
    "$t_{nabl} = \\frac{(\\overline{x} - \\mu_0)\\sqrt{n}}{s} = \\frac{(198.5 - 200)\\sqrt{10}}{4.45} = -1.067$.\n",
    "\n",
    "Так как $t_{nabl}$ не попало в критическую область, то на уровне значимости $\\alpha$ нулевую гипотезу принимаем.\n",
    "\n",
    "**Вывод:** Средний вес пачки печенья статистически значимо не отличим от 200."
   ]
  },
  {
   "cell_type": "markdown",
   "metadata": {},
   "source": [
    "**2 способ (с помощью Python)**. Дано:"
   ]
  },
  {
   "cell_type": "markdown",
   "metadata": {},
   "source": [
    "Нулевая гипотеза: $H_0: \\mu = \\mu_0 = 200$.\n",
    "\n",
    "Альтернативная гипотеза: $H_1: \\mu < \\mu_0$."
   ]
  },
  {
   "cell_type": "code",
   "execution_count": 230,
   "metadata": {},
   "outputs": [
    {
     "data": {
      "text/html": [
       "<div>\n",
       "<style scoped>\n",
       "    .dataframe tbody tr th:only-of-type {\n",
       "        vertical-align: middle;\n",
       "    }\n",
       "\n",
       "    .dataframe tbody tr th {\n",
       "        vertical-align: top;\n",
       "    }\n",
       "\n",
       "    .dataframe thead th {\n",
       "        text-align: right;\n",
       "    }\n",
       "</style>\n",
       "<table border=\"1\" class=\"dataframe\">\n",
       "  <thead>\n",
       "    <tr style=\"text-align: right;\">\n",
       "      <th></th>\n",
       "      <th>x_i</th>\n",
       "    </tr>\n",
       "  </thead>\n",
       "  <tbody>\n",
       "    <tr>\n",
       "      <th>0</th>\n",
       "      <td>202</td>\n",
       "    </tr>\n",
       "    <tr>\n",
       "      <th>1</th>\n",
       "      <td>203</td>\n",
       "    </tr>\n",
       "    <tr>\n",
       "      <th>2</th>\n",
       "      <td>199</td>\n",
       "    </tr>\n",
       "    <tr>\n",
       "      <th>3</th>\n",
       "      <td>197</td>\n",
       "    </tr>\n",
       "    <tr>\n",
       "      <th>4</th>\n",
       "      <td>195</td>\n",
       "    </tr>\n",
       "    <tr>\n",
       "      <th>5</th>\n",
       "      <td>201</td>\n",
       "    </tr>\n",
       "    <tr>\n",
       "      <th>6</th>\n",
       "      <td>200</td>\n",
       "    </tr>\n",
       "    <tr>\n",
       "      <th>7</th>\n",
       "      <td>204</td>\n",
       "    </tr>\n",
       "    <tr>\n",
       "      <th>8</th>\n",
       "      <td>194</td>\n",
       "    </tr>\n",
       "    <tr>\n",
       "      <th>9</th>\n",
       "      <td>190</td>\n",
       "    </tr>\n",
       "  </tbody>\n",
       "</table>\n",
       "</div>"
      ],
      "text/plain": [
       "   x_i\n",
       "0  202\n",
       "1  203\n",
       "2  199\n",
       "3  197\n",
       "4  195\n",
       "5  201\n",
       "6  200\n",
       "7  204\n",
       "8  194\n",
       "9  190"
      ]
     },
     "execution_count": 230,
     "metadata": {},
     "output_type": "execute_result"
    }
   ],
   "source": [
    "mu0 = 200\n",
    "\n",
    "alpha = 0.01\n",
    "\n",
    "data = [202, 203, 199, 197, 195, 201, 200, 204, 194, 190]\n",
    "\n",
    "df = pd.DataFrame(data, columns=['x_i'])\n",
    "\n",
    "df"
   ]
  },
  {
   "cell_type": "markdown",
   "metadata": {},
   "source": [
    "Определяем критическую область:"
   ]
  },
  {
   "cell_type": "code",
   "execution_count": 231,
   "metadata": {},
   "outputs": [
    {
     "data": {
      "text/plain": [
       "-2.8214379233005498"
      ]
     },
     "execution_count": 231,
     "metadata": {},
     "output_type": "execute_result"
    }
   ],
   "source": [
    "n = df['x_i'].shape[0]\n",
    "\n",
    "tl = stats.t.ppf(alpha, df=n - 1)\n",
    "tl"
   ]
  },
  {
   "cell_type": "markdown",
   "metadata": {},
   "source": [
    "Критическая область: $(-\\infty; -2.8214379233005498)$"
   ]
  },
  {
   "cell_type": "code",
   "execution_count": 232,
   "metadata": {},
   "outputs": [
    {
     "data": {
      "text/plain": [
       "<matplotlib.collections.PolyCollection at 0x1a566cd3ee0>"
      ]
     },
     "execution_count": 232,
     "metadata": {},
     "output_type": "execute_result"
    },
    {
     "data": {
      "image/png": "[encoded data removed]",
      "text/plain": [
       "<Figure size 432x288 with 1 Axes>"
      ]
     },
     "metadata": {
      "needs_background": "light"
     },
     "output_type": "display_data"
    }
   ],
   "source": [
    "ox = np.linspace(-6, 6, 500)\n",
    "oy = stats.t.pdf(ox, df=n - 1)\n",
    "\n",
    "ox_left = np.linspace(-6, tl, 100)\n",
    "oy_left = stats.t.pdf(ox_left, df=n - 1)\n",
    "\n",
    "plt.plot(ox, oy)\n",
    "plt.fill_between(ox_left, oy_left, alpha=0.5, color='C0')"
   ]
  },
  {
   "cell_type": "markdown",
   "metadata": {},
   "source": [
    "Вычисляем наблюдаемое значение:"
   ]
  },
  {
   "cell_type": "code",
   "execution_count": 233,
   "metadata": {},
   "outputs": [],
   "source": [
    "def statistic(samples):\n",
    "    return (samples.mean() - mu0) / (samples.std(ddof=1) / np.sqrt(samples.shape[0]))"
   ]
  },
  {
   "cell_type": "code",
   "execution_count": 234,
   "metadata": {},
   "outputs": [
    {
     "data": {
      "text/plain": [
       "-1.0651074037450896"
      ]
     },
     "execution_count": 234,
     "metadata": {},
     "output_type": "execute_result"
    }
   ],
   "source": [
    "t = statistic(df['x_i'])\n",
    "t"
   ]
  },
  {
   "cell_type": "markdown",
   "metadata": {},
   "source": [
    "Наблюдаемое значение не попало в критическую область. Значит, на уровне значимости $\\alpha$ нулевую гипотезу принимаем."
   ]
  },
  {
   "cell_type": "markdown",
   "metadata": {},
   "source": [
    "Вычислим P-value -- наибольшее значение уровня значимости $\\alpha$, при котором гипотезу можно принять (т.е. при котором значение статистики, посчитанной по выборке, ещё не попадает в критическую область)."
   ]
  },
  {
   "cell_type": "code",
   "execution_count": 235,
   "metadata": {},
   "outputs": [
    {
     "name": "stdout",
     "output_type": "stream",
     "text": [
      "p-value = 0.15728330176236427\n"
     ]
    }
   ],
   "source": [
    "n = df['x_i'].shape[0]\n",
    "S = statistic(df['x_i'])\n",
    "\n",
    "p_left = stats.t.cdf(S, df=n - 1)\n",
    "\n",
    "pvalue = p_left\n",
    "\n",
    "print(f'p-value = {pvalue}')"
   ]
  },
  {
   "cell_type": "markdown",
   "metadata": {},
   "source": [
    "Так как $\\alpha = 0.01 < p-value = 0.16$, то в критическую область не попали, нет оснований отвергать гипотезу $H_0$.\n",
    "\n",
    "**Вывод:** На уровне значимости $\\alpha$ гипотезу $H_0$ принимаем, т.е. средний вес пачки печенья статистически значимо не отличим от 200г."
   ]
  },
  {
   "cell_type": "markdown",
   "metadata": {},
   "source": [
    "**№3.** Утверждается, что шарики для подшипников, изготовленные автоматическим станком, имеют средний диаметр 17 мм. Используя уровень значимости 0.025 и правостороннюю критическую область, проверить данную гипотезу при условии, что в выборке из 100 шариков средний диаметр оказался равным 17.5 мм, а дисперсия известна и равна 4 мм."
   ]
  },
  {
   "cell_type": "markdown",
   "metadata": {},
   "source": [
    "**1 способ (ручной).** По условию:\n",
    "$\\alpha =0.025$, $n = 100$, $\\overline{x_B} = 17.5$, $\\sigma^2 = 4$. \n",
    "\n",
    "Нулевая гипотеза $H_0: \\mu = \\mu_o = 17$.\n",
    "\n",
    "Альтернативная гипотеза: $H_1: \\mu > \\mu_0$.\n",
    "\n",
    "Используемый критерий: $Z = \\frac{(\\overline{x} - \\mu)\\sqrt{n}}{\\sigma}$ имеет нормальное распределение.\n",
    "\n",
    "1) Определяем критическую область:\n",
    "\n",
    "Так как $\\Phi(z_{krit}) = \\frac{1-2\\alpha}{2} = 0.475$, то по таблице значений функции Лапласа $z_{krit} = 1.96$.\n",
    "\n",
    "Критическая область: $(1.96; +\\infty)$.\n",
    "\n",
    "2) Вычисляем наблюдаемое значение:\n",
    "\n",
    "$z_{nabl} = \\frac{(\\overline{x} - \\mu_0)\\sqrt{n}}{\\sigma} = \\frac{(17.5 - 17)\\sqrt{100}}{\\sqrt{4}} = 2.5$.\n",
    "\n",
    "Так как $z_{nabl}$ попало в критическую область, то на уровне значимости $\\alpha$ нулевую гипотезу отвергаем.\n",
    "\n",
    "**Вывод:** На уровне значимости $\\alpha$ нулевую гипотезу отвергаем, т.е. средний диаметр шариков статистически значимо отличается от 17 (полученное на выборке значение не случайно)."
   ]
  },
  {
   "cell_type": "markdown",
   "metadata": {},
   "source": [
    "**2 способ (с помощью Python)**. Дано:"
   ]
  },
  {
   "cell_type": "markdown",
   "metadata": {},
   "source": [
    "Нулевая гипотеза: $H_0: \\mu = \\mu_0 = 17$.\n",
    "\n",
    "Альтернативная гипотеза: $H_1: \\mu > \\mu_0$."
   ]
  },
  {
   "cell_type": "code",
   "execution_count": 236,
   "metadata": {},
   "outputs": [],
   "source": [
    "alpha = 0.025 \n",
    "mean = 17.5\n",
    "n = 100\n",
    "sigma = 2"
   ]
  },
  {
   "cell_type": "markdown",
   "metadata": {},
   "source": [
    "Определяем критическую область:"
   ]
  },
  {
   "cell_type": "code",
   "execution_count": 237,
   "metadata": {},
   "outputs": [
    {
     "data": {
      "text/plain": [
       "1.959963984540054"
      ]
     },
     "execution_count": 237,
     "metadata": {},
     "output_type": "execute_result"
    }
   ],
   "source": [
    "tr = stats.norm.ppf(1 - alpha)\n",
    "tr"
   ]
  },
  {
   "cell_type": "markdown",
   "metadata": {},
   "source": [
    "Критическая область: $(1.959963984540054; +\\infty)$."
   ]
  },
  {
   "cell_type": "code",
   "execution_count": 238,
   "metadata": {},
   "outputs": [
    {
     "data": {
      "text/plain": [
       "<matplotlib.collections.PolyCollection at 0x1a566d34cd0>"
      ]
     },
     "execution_count": 238,
     "metadata": {},
     "output_type": "execute_result"
    },
    {
     "data": {
      "image/png": "[encoded data removed]",
      "text/plain": [
       "<Figure size 432x288 with 1 Axes>"
      ]
     },
     "metadata": {
      "needs_background": "light"
     },
     "output_type": "display_data"
    }
   ],
   "source": [
    "ox = np.linspace(-4, 4, 500)\n",
    "oy = stats.norm.pdf(ox)\n",
    "\n",
    "ox_right = np.linspace(tr, 4, 100)\n",
    "oy_right = stats.norm.pdf(ox_right)\n",
    "\n",
    "plt.plot(ox, oy)\n",
    "plt.fill_between(ox_right, oy_right, alpha=0.5, color='C0')"
   ]
  },
  {
   "cell_type": "markdown",
   "metadata": {},
   "source": [
    "Определяем наблюдаемое значение:"
   ]
  },
  {
   "cell_type": "code",
   "execution_count": 239,
   "metadata": {},
   "outputs": [
    {
     "data": {
      "text/plain": [
       "2.5"
      ]
     },
     "execution_count": 239,
     "metadata": {},
     "output_type": "execute_result"
    }
   ],
   "source": [
    "z = (mean - 17)*np.sqrt(n) / sigma\n",
    "z"
   ]
  },
  {
   "cell_type": "markdown",
   "metadata": {},
   "source": [
    "Так как наблюдаемое значение попало в критическую область, то на уровне значимости $\\alpha$ нулевую гипотезу отвергаем."
   ]
  },
  {
   "cell_type": "markdown",
   "metadata": {},
   "source": [
    "**Вывод:** На уровне значимости $\\alpha$ нулевую гипотезу отвергаем, т.е. средний диаметр шариков статистически значимо отличается от 17 (отклонения в результате не случайны)."
   ]
  },
  {
   "cell_type": "markdown",
   "metadata": {},
   "source": [
    "**№4.(Дополнительно)** Дана выборка диаметров подшипников из примера 1 с занятия 5:\n",
    "\n",
    "samples = [0.6603, 0.9466, 0.5968, 1.3792, 1.5481, 0.7515, 1.0681, 1.1134,\n",
    "1.2088, 1.701 , 1.0282, 1.3579, 1.0191, 1.1784, 1.1168, 1.1372,\n",
    "0.7273, 1.3958, 0.8665, 1.5112, 1.161 , 1.0232, 1.0865, 1.02 ]\n",
    "\n",
    "Предполагая, что диаметры подшипников распределены нормально, проверьте гипотезу о том, что дисперсия случайной величины равна 0.0625 при уровне значимости alpha = 0.05. Что для этого нужно знать:\n",
    "1. Альтернативная гипотеза двухсторонняя.\n",
    "2. Статистика для теста: H = (n - 1) * sample_variance / variance, где n - число элементов в выборке, sample_variance - несмещённая оценка дисперсии, variance - утверждаемая нулевой гипотезой дисперсия.\n",
    "3. Эта статистика в предположении верности нулевой гипотезы имеет распределение хи-квадрат с параметром df = n - 1. Её квантили можно найти с помощью функции scipy.stats.chi2.ppf."
   ]
  },
  {
   "cell_type": "markdown",
   "metadata": {},
   "source": [
    "**1 способ (ручной)**. \n",
    "\n",
    "Нулевая гипотеза: $H_0: \\sigma^2 = \\sigma_{0}^2 = 0.0625$.\n",
    "\n",
    "Альтернативная гипотеза: $H_1: \\sigma^2 \\ne \\sigma_{0}^2$.\n",
    "\n",
    "Уровень значимости: $\\alpha = 0.05$\n",
    "\n",
    "Критерий: $\\chi^2 = \\frac{(n-1)s^2}{\\sigma_{0}^2}$ имеет распределение $\\chi^2$ c $k = n-1 = 14 - 1 = 13$ степенями свободы.\n",
    "\n",
    "1) Посчитаем исправленную дисперсию (несмещенную выборочную дисперсию):\n",
    "\n",
    "$\\overline{x} = \\frac{1}{n}\\Sigma_{i = 1}^{n} x_i = 1.12$.\n",
    "\n",
    "$s^2 = \\frac{1}{n-1}\\Sigma_{i = 1}^{n}(x_i - \\overline{x})^2 = 0.04$.\n",
    "\n",
    "2) Определяем критическую область:\n",
    "\n",
    "По таблице критических точек распределения $\\chi^2$ имеем:\n",
    "\n",
    "$\\chi^{2}_{krl} = \\chi^2(1-\\alpha/2, k) = \\chi^2(1-0.05/2, 13) = 5.01$\n",
    "\n",
    "$\\chi^{2}_{krr} = \\chi^2(\\alpha/2, k) = \\chi^2(0.05/2, 13) = 24.7$.\n",
    "\n",
    "Критическая область: $(0; 5.01) \\cup (24.7; +\\infty)$.\n",
    "\n",
    "3) Вычисляем наблюдаемое значение:\n",
    "\n",
    "$h =\\frac{(n - 1)s^2}{\\sigma_{0}^2} = \\frac{(14 - 1)0.04}{0.0625} = 8.32$.\n",
    "\n",
    "**Вывод:** Так как наблюдаемое значение не попало в критическую область, то на уровне значимости $\\alpha$ нулевую гипотезу принимаем, т.е. дисперсия статистически незначимо отличается от 0.0625."
   ]
  },
  {
   "cell_type": "markdown",
   "metadata": {},
   "source": [
    "**2 способ (с помощью Python)**. Дано:"
   ]
  },
  {
   "cell_type": "markdown",
   "metadata": {},
   "source": [
    "Нулевая гипотеза: $H_0: \\sigma^2 = \\sigma_{0}^2 = 0.0625$.\n",
    "\n",
    "Альтернативная гипотеза: $H_1: \\sigma^2 \\ne \\sigma_{0}^2$.\n",
    "\n",
    "Уровень значимости: $\\alpha = 0.05$\n",
    "\n",
    "Критерий: $\\chi^2 = \\frac{(n-1)s^2}{\\sigma_{0}^2}$ имеет распределение $\\chi^2$ c $k = n-1 = 14 - 1 = 13$ степенями свободы.\n"
   ]
  },
  {
   "cell_type": "code",
   "execution_count": 240,
   "metadata": {},
   "outputs": [
    {
     "name": "stdout",
     "output_type": "stream",
     "text": [
      "Данная выборка\n"
     ]
    },
    {
     "data": {
      "text/html": [
       "<div>\n",
       "<style scoped>\n",
       "    .dataframe tbody tr th:only-of-type {\n",
       "        vertical-align: middle;\n",
       "    }\n",
       "\n",
       "    .dataframe tbody tr th {\n",
       "        vertical-align: top;\n",
       "    }\n",
       "\n",
       "    .dataframe thead th {\n",
       "        text-align: right;\n",
       "    }\n",
       "</style>\n",
       "<table border=\"1\" class=\"dataframe\">\n",
       "  <thead>\n",
       "    <tr style=\"text-align: right;\">\n",
       "      <th></th>\n",
       "      <th>x_i</th>\n",
       "    </tr>\n",
       "  </thead>\n",
       "  <tbody>\n",
       "    <tr>\n",
       "      <th>0</th>\n",
       "      <td>1.0282</td>\n",
       "    </tr>\n",
       "    <tr>\n",
       "      <th>1</th>\n",
       "      <td>1.3579</td>\n",
       "    </tr>\n",
       "    <tr>\n",
       "      <th>2</th>\n",
       "      <td>1.0191</td>\n",
       "    </tr>\n",
       "    <tr>\n",
       "      <th>3</th>\n",
       "      <td>1.1784</td>\n",
       "    </tr>\n",
       "    <tr>\n",
       "      <th>4</th>\n",
       "      <td>1.1168</td>\n",
       "    </tr>\n",
       "    <tr>\n",
       "      <th>5</th>\n",
       "      <td>1.1372</td>\n",
       "    </tr>\n",
       "    <tr>\n",
       "      <th>6</th>\n",
       "      <td>0.7273</td>\n",
       "    </tr>\n",
       "    <tr>\n",
       "      <th>7</th>\n",
       "      <td>1.3958</td>\n",
       "    </tr>\n",
       "    <tr>\n",
       "      <th>8</th>\n",
       "      <td>0.8665</td>\n",
       "    </tr>\n",
       "    <tr>\n",
       "      <th>9</th>\n",
       "      <td>1.5112</td>\n",
       "    </tr>\n",
       "    <tr>\n",
       "      <th>10</th>\n",
       "      <td>1.1610</td>\n",
       "    </tr>\n",
       "    <tr>\n",
       "      <th>11</th>\n",
       "      <td>1.0232</td>\n",
       "    </tr>\n",
       "    <tr>\n",
       "      <th>12</th>\n",
       "      <td>1.0865</td>\n",
       "    </tr>\n",
       "    <tr>\n",
       "      <th>13</th>\n",
       "      <td>1.0200</td>\n",
       "    </tr>\n",
       "  </tbody>\n",
       "</table>\n",
       "</div>"
      ],
      "text/plain": [
       "       x_i\n",
       "0   1.0282\n",
       "1   1.3579\n",
       "2   1.0191\n",
       "3   1.1784\n",
       "4   1.1168\n",
       "5   1.1372\n",
       "6   0.7273\n",
       "7   1.3958\n",
       "8   0.8665\n",
       "9   1.5112\n",
       "10  1.1610\n",
       "11  1.0232\n",
       "12  1.0865\n",
       "13  1.0200"
      ]
     },
     "execution_count": 240,
     "metadata": {},
     "output_type": "execute_result"
    }
   ],
   "source": [
    "data = [1.0282, 1.3579, 1.0191, 1.1784, 1.1168, 1.1372, 0.7273, 1.3958, 0.8665, 1.5112, 1.161 , 1.0232, 1.0865, 1.02]\n",
    "df = pd.DataFrame(data, columns=['x_i'])\n",
    "print('Данная выборка')\n",
    "df"
   ]
  },
  {
   "cell_type": "markdown",
   "metadata": {},
   "source": [
    "Определим критическую область:"
   ]
  },
  {
   "cell_type": "code",
   "execution_count": 243,
   "metadata": {},
   "outputs": [
    {
     "data": {
      "text/plain": [
       "(5.00875051181033, 24.735604884931547)"
      ]
     },
     "execution_count": 243,
     "metadata": {},
     "output_type": "execute_result"
    }
   ],
   "source": [
    "alpha = 0.05\n",
    "n = df['x_i'].shape[0]\n",
    "\n",
    "t1 = stats.chi2.ppf(alpha / 2, df=n - 1)\n",
    "t2 = stats.chi2.ppf(1 - alpha / 2, df=n - 1)\n",
    "\n",
    "t1, t2"
   ]
  },
  {
   "cell_type": "markdown",
   "metadata": {},
   "source": [
    "Критическая область: $(0; 5.008750511810331) \\cup (24.735604884931547; +\\infty)$."
   ]
  },
  {
   "cell_type": "code",
   "execution_count": 244,
   "metadata": {},
   "outputs": [
    {
     "data": {
      "text/plain": [
       "<matplotlib.collections.PolyCollection at 0x1a565a66c40>"
      ]
     },
     "execution_count": 244,
     "metadata": {},
     "output_type": "execute_result"
    },
    {
     "data": {
      "image/png": "[encoded data removed]",
      "text/plain": [
       "<Figure size 432x288 with 1 Axes>"
      ]
     },
     "metadata": {
      "needs_background": "light"
     },
     "output_type": "display_data"
    }
   ],
   "source": [
    "ox = np.linspace(0, 35, 500)\n",
    "oy = stats.chi2.pdf(ox, df = n-1)\n",
    "\n",
    "ox_left = np.linspace(0, t1, 100)\n",
    "oy_left = stats.chi2.pdf(ox_left, df = n-1)\n",
    "\n",
    "ox_right = np.linspace(t2, 35, 100)\n",
    "oy_right = stats.chi2.pdf(ox_right, df = n-1)\n",
    "\n",
    "plt.plot(ox, oy)\n",
    "plt.fill_between(ox_left, oy_left, alpha=0.5, color='C0')\n",
    "plt.fill_between(ox_right, oy_right, alpha=0.5, color='C0')"
   ]
  },
  {
   "cell_type": "markdown",
   "metadata": {},
   "source": [
    "Определяем наблюдаемое значение:"
   ]
  },
  {
   "cell_type": "code",
   "execution_count": 245,
   "metadata": {},
   "outputs": [
    {
     "data": {
      "text/plain": [
       "8.775810434285717"
      ]
     },
     "execution_count": 245,
     "metadata": {},
     "output_type": "execute_result"
    }
   ],
   "source": [
    "sigma0 = 0.0625\n",
    "\n",
    "h = (n - 1)*df['x_i'].var(ddof=1) / sigma0\n",
    "h"
   ]
  },
  {
   "cell_type": "markdown",
   "metadata": {},
   "source": [
    "**Вывод:** Так как наблюдаемое значение не попало в критическую область, то на уровне значимости $\\alpha$ нулевую гипотезу принимаем, т.е. дисперсия статистически незначимо отличается от 0.0625."
   ]
  }
 ],
 "metadata": {
  "kernelspec": {
   "display_name": "Python 3",
   "language": "python",
   "name": "python3"
  },
  "language_info": {
   "codemirror_mode": {
    "name": "ipython",
    "version": 3
   },
   "file_extension": ".py",
   "mimetype": "text/x-python",
   "name": "python",
   "nbconvert_exporter": "python",
   "pygments_lexer": "ipython3",
   "version": "3.8.5"
  }
 },
 "nbformat": 4,
 "nbformat_minor": 4
}
