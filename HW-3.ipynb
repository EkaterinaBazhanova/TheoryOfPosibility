{
 "cells": [
  {
   "cell_type": "code",
   "execution_count": 87,
   "metadata": {},
   "outputs": [],
   "source": [
    "import warnings\n",
    "import seaborn as sns\n",
    "import numpy as np\n",
    "import pandas as pd\n",
    "from matplotlib import pyplot as plt\n",
    "\n",
    "warnings.filterwarnings('ignore')"
   ]
  },
  {
   "cell_type": "markdown",
   "metadata": {},
   "source": [
    "# Домашняя работа №3"
   ]
  },
  {
   "cell_type": "markdown",
   "metadata": {},
   "source": [
    "**№1**. Даны значения зарплат из выборки выпускников: \n",
    "```\n",
    "100, 80, 75, 77, 89, 33, 45, 25, 65, 17, 30, 24, 57, 55, 70, 75, 65, 84, 90, 150.\n",
    "```\n",
    "Без использования статистических функций вроде `mean`, `std`, `var`, посчитать среднее арифметическое, среднее квадратичное отклонение, смещенную и несмещенную оценки дисперсий для данной выборки.\n",
    "\n",
    "Можно затем посчитать те же значения с использованием статистических функций, чтобы проверить себя.\n"
   ]
  },
  {
   "cell_type": "code",
   "execution_count": 88,
   "metadata": {},
   "outputs": [
    {
     "name": "stdout",
     "output_type": "stream",
     "text": [
      "Рассчеты без использования статистических функций:\n",
      "Среднее арифметическое: 65.3\n",
      "Cреднее квадратичное отклонение: 30.823854398825596\n",
      "Смещенная выборочная дисперсия: 950.11\n",
      "Несмещенная выборочная дисперсия: 1000.1157894736842 \n",
      "\n",
      "Рассчеты с использованием статистических функций:\n",
      "Среднее арифметическое: 65.3\n",
      "Cреднее квадратичное отклонение 30.823854398825596\n",
      "Смещенная выборочная дисперсия 950.11\n",
      "Несмещенная выборочная дисперсия 1000.1157894736842\n"
     ]
    }
   ],
   "source": [
    "data = pd.DataFrame([100, 80, 75, 77, 89, 33, 45, 25, 65, 17, 30, 24, 57, 55, 70, 75, 65, 84, 90, 150], columns=['payment'])\n",
    "\n",
    "# выборочное среднее -- оценка математического ожидания (несмещенная)\n",
    "mean_payment = data['payment'].sum() / data['payment'].count()\n",
    "\n",
    "# среднее квадратическое отклонение -- уровень разброса элементов выборки относительно выборочного среднего\n",
    "std_payment = np.sqrt(((data['payment'] - data['payment'].mean()) ** 2).sum() / data['payment'].count())\n",
    "\n",
    "# смещенная выборочная дисперсия \n",
    "# квадрат среднеквадратического отклонения -- оценка дисперсии\n",
    "variance_payment = ((data['payment'] - data['payment'].mean()) ** 2).sum() / data['payment'].count()\n",
    "\n",
    "# несмещенная выборочная дисперсия\n",
    "# квадрат среднеквадратического отклоения (только в знаменателе на 1 меньше) -- оценка дисперсии\n",
    "variance2_payment = ((data['payment']- data['payment'].mean())**2).sum() / (data['payment'].count() - 1)\n",
    "\n",
    "print('Рассчеты без использования статистических функций:')\n",
    "print(f'Среднее арифметическое: {mean_payment}')\n",
    "print(f'Cреднее квадратичное отклонение: {std_payment}')\n",
    "print(f'Смещенная выборочная дисперсия: {variance_payment}')\n",
    "print(f'Несмещенная выборочная дисперсия: {variance2_payment} \\n')\n",
    "\n",
    "print('Рассчеты с использованием статистических функций:')\n",
    "print('Среднее арифметическое:', data['payment'].mean())\n",
    "print('Cреднее квадратичное отклонение', data['payment'].std(ddof=0))\n",
    "print('Смещенная выборочная дисперсия', data['payment'].var(ddof=0))\n",
    "print('Несмещенная выборочная дисперсия', data['payment'].var(ddof=1))"
   ]
  },
  {
   "cell_type": "markdown",
   "metadata": {},
   "source": [
    "**№2**. Для выборки из задачи 1 найти первый и третий квартили, интерквартильное расстояние. Найти выборсы в выборке, используя для этого \"усы\" из `boxplot`. В этой задаче можно использовать статистические функции."
   ]
  },
  {
   "cell_type": "code",
   "execution_count": 89,
   "metadata": {},
   "outputs": [
    {
     "data": {
      "text/html": [
       "<div>\n",
       "<style scoped>\n",
       "    .dataframe tbody tr th:only-of-type {\n",
       "        vertical-align: middle;\n",
       "    }\n",
       "\n",
       "    .dataframe tbody tr th {\n",
       "        vertical-align: top;\n",
       "    }\n",
       "\n",
       "    .dataframe thead th {\n",
       "        text-align: right;\n",
       "    }\n",
       "</style>\n",
       "<table border=\"1\" class=\"dataframe\">\n",
       "  <thead>\n",
       "    <tr style=\"text-align: right;\">\n",
       "      <th></th>\n",
       "      <th>payment</th>\n",
       "    </tr>\n",
       "  </thead>\n",
       "  <tbody>\n",
       "    <tr>\n",
       "      <th>count</th>\n",
       "      <td>20.000000</td>\n",
       "    </tr>\n",
       "    <tr>\n",
       "      <th>mean</th>\n",
       "      <td>65.300000</td>\n",
       "    </tr>\n",
       "    <tr>\n",
       "      <th>std</th>\n",
       "      <td>31.624607</td>\n",
       "    </tr>\n",
       "    <tr>\n",
       "      <th>min</th>\n",
       "      <td>17.000000</td>\n",
       "    </tr>\n",
       "    <tr>\n",
       "      <th>25%</th>\n",
       "      <td>42.000000</td>\n",
       "    </tr>\n",
       "    <tr>\n",
       "      <th>50%</th>\n",
       "      <td>67.500000</td>\n",
       "    </tr>\n",
       "    <tr>\n",
       "      <th>75%</th>\n",
       "      <td>81.000000</td>\n",
       "    </tr>\n",
       "    <tr>\n",
       "      <th>max</th>\n",
       "      <td>150.000000</td>\n",
       "    </tr>\n",
       "  </tbody>\n",
       "</table>\n",
       "</div>"
      ],
      "text/plain": [
       "          payment\n",
       "count   20.000000\n",
       "mean    65.300000\n",
       "std     31.624607\n",
       "min     17.000000\n",
       "25%     42.000000\n",
       "50%     67.500000\n",
       "75%     81.000000\n",
       "max    150.000000"
      ]
     },
     "execution_count": 89,
     "metadata": {},
     "output_type": "execute_result"
    }
   ],
   "source": [
    "# смотрим описание датасета\n",
    "data.describe()"
   ]
  },
  {
   "cell_type": "code",
   "execution_count": 90,
   "metadata": {},
   "outputs": [
    {
     "name": "stdout",
     "output_type": "stream",
     "text": [
      "0.25    42.0\n",
      "0.75    81.0\n",
      "Name: payment, dtype: float64\n",
      "Интерквартильное расстояние: 39.0\n"
     ]
    },
    {
     "data": {
      "text/plain": [
       "<AxesSubplot:>"
      ]
     },
     "execution_count": 90,
     "metadata": {},
     "output_type": "execute_result"
    },
    {
     "data": {
      "image/png": "[encoded data removed]",
      "text/plain": [
       "<Figure size 432x288 with 1 Axes>"
      ]
     },
     "metadata": {
      "needs_background": "light"
     },
     "output_type": "display_data"
    }
   ],
   "source": [
    "# вычисляем 1ый и 3ий квантили\n",
    "print(data['payment'].quantile([0.25, 0.75]))\n",
    "\n",
    "q1 = data['payment'].quantile([0.25, 0.75]).values[0]\n",
    "q3 = data['payment'].quantile([0.25, 0.75]).values[1]\n",
    "\n",
    "# вычисляем интерквартильное расстояние -- длина отрезка [quantile(0.25), quantile(0.75)]\n",
    "iqr =  q3 - q1\n",
    "print(f'Интерквартильное расстояние: {iqr}')\n",
    "\n",
    "# гистограмма данных\n",
    "data['payment'].hist(figsize=(6,4), bins=10, grid=True)"
   ]
  },
  {
   "cell_type": "code",
   "execution_count": 93,
   "metadata": {},
   "outputs": [
    {
     "data": {
      "image/png": "[encoded data removed]",
      "text/plain": [
       "<Figure size 432x288 with 1 Axes>"
      ]
     },
     "metadata": {
      "needs_background": "light"
     },
     "output_type": "display_data"
    },
    {
     "name": "stdout",
     "output_type": "stream",
     "text": [
      "Выбросы в данных:\n"
     ]
    },
    {
     "data": {
      "text/html": [
       "<div>\n",
       "<style scoped>\n",
       "    .dataframe tbody tr th:only-of-type {\n",
       "        vertical-align: middle;\n",
       "    }\n",
       "\n",
       "    .dataframe tbody tr th {\n",
       "        vertical-align: top;\n",
       "    }\n",
       "\n",
       "    .dataframe thead th {\n",
       "        text-align: right;\n",
       "    }\n",
       "</style>\n",
       "<table border=\"1\" class=\"dataframe\">\n",
       "  <thead>\n",
       "    <tr style=\"text-align: right;\">\n",
       "      <th></th>\n",
       "      <th>payment</th>\n",
       "    </tr>\n",
       "  </thead>\n",
       "  <tbody>\n",
       "    <tr>\n",
       "      <th>19</th>\n",
       "      <td>150</td>\n",
       "    </tr>\n",
       "  </tbody>\n",
       "</table>\n",
       "</div>"
      ],
      "text/plain": [
       "    payment\n",
       "19      150"
      ]
     },
     "execution_count": 93,
     "metadata": {},
     "output_type": "execute_result"
    }
   ],
   "source": [
    "# ящик с усами\n",
    "plt.figure(figsize=(6, 4))\n",
    "sns.boxplot(data['payment'], whis=1.5)\n",
    "plt.xlabel('payment')\n",
    "plt.show()\n",
    "\n",
    "\n",
    "# определяем выбросы\n",
    "boxplot_range = (q1 - 1.5 * iqr, q3 + 1.5 * iqr)\n",
    "boxplot_range\n",
    "\n",
    "outliers = data.loc[(data['payment'] < boxplot_range[0]) | (data['payment']> boxplot_range[1])]\n",
    "\n",
    "print('Выбросы в данных:')\n",
    "outliers"
   ]
  },
  {
   "cell_type": "markdown",
   "metadata": {},
   "source": [
    "**№3.** В университет на факультеты `A` и `B` поступило равное количество студентов, а на факультет `C` студентов поступило столько же, сколько на `A` и `B` вместе. Вероятность того, что студент факультета `A` сдаст первую сессию, равна 0.8. Для студента факультета `B` эта вероятность равна 0.7, а для студента факультета `C` - 0.9. Студент сдал первую сессию. Какова вероятность, что он учится: a) на факультете `A`? б) на факультете `B`? в) на факультете `C`?\n",
    "\n",
    "_Замечание_: да, эта задача не на тему описательных статистик, но тема важная, и её стоит иногда освежать в памяти."
   ]
  },
  {
   "cell_type": "markdown",
   "metadata": {},
   "source": [
    "Пусть событие $A$ -- студент сдал первую сессию и гипотезы $H_i$ -- студент учится на $i$-ом факультете, $i = 1, 2, 3$. \n",
    "Обозначим через $x$ -- количество студентов на факультете $A$. Тогда на факультете $B$ также $x$ студентов, а на факультете $C$ -- $2x$ учащихся. \n",
    "\n",
    "Отсюда и по условию имеем:\n",
    "\n",
    "$P(H_1) = \\frac{x}{4x} = \\frac{1}{4}$,   $P(A | H_1) = 0.8$  \n",
    "\n",
    "$P(H_2) = \\frac{x}{4x} = \\frac{1}{4}$,   $P(A | H_2) = 0.7$  \n",
    "\n",
    "$P(H_3) = \\frac{2x}{4x} = \\frac{1}{2}$,   $P(A | H_3) = 0.9$\n",
    "\n",
    "Вероятность $P(H_i | A) = \\frac{P(H_i)\\cdot P(A | H_i)}{P(H_1)\\cdot P(A | H_1) + P(H_2)\\cdot P(A | H_2) + P(H_3)\\cdot P(A | H_3)}$, $i =1, 2, 3$.\n",
    "\n",
    "Посчитаем вероятность для каждого пункты задачи:"
   ]
  },
  {
   "cell_type": "code",
   "execution_count": 85,
   "metadata": {},
   "outputs": [
    {
     "name": "stdout",
     "output_type": "stream",
     "text": [
      "a) 0.24242424242424246, б) 0.21212121212121213, в) 0.5454545454545455\n"
     ]
    }
   ],
   "source": [
    "PH1 = 1/4\n",
    "PH2 = 1/4\n",
    "PH3 = 1/2\n",
    "\n",
    "PAH1 = 0.8\n",
    "PAH2 = 0.7\n",
    "PAH3 = 0.9\n",
    "\n",
    "# полная вероятность\n",
    "PA = PH1 * PAH1 + PH2 * PAH2 + PH3 * PAH3\n",
    "\n",
    "# считаем вероятность того, что студент учится на факультете А\n",
    "P1 = (PH1 * PAH1) / PA\n",
    "\n",
    "# считаем вероятность того, что студент учится на факультете B\n",
    "P2 = (PH2 * PAH2) / PA\n",
    "\n",
    "# считаем вероятность того, что студент учится на факультете C\n",
    "P3 = (PH3 * PAH3) / PA\n",
    "\n",
    "print(f'a) {P1}, б) {P2}, в) {P3}')"
   ]
  }
 ],
 "metadata": {
  "kernelspec": {
   "display_name": "Python 3",
   "language": "python",
   "name": "python3"
  },
  "language_info": {
   "codemirror_mode": {
    "name": "ipython",
    "version": 3
   },
   "file_extension": ".py",
   "mimetype": "text/x-python",
   "name": "python",
   "nbconvert_exporter": "python",
   "pygments_lexer": "ipython3",
   "version": "3.8.5"
  }
 },
 "nbformat": 4,
 "nbformat_minor": 4
}
