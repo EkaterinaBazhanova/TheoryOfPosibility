{
 "cells": [
  {
   "cell_type": "code",
   "execution_count": 346,
   "metadata": {},
   "outputs": [],
   "source": [
    "import numpy as np\n",
    "import pandas as pd\n",
    "import seaborn as sns\n",
    "from scipy import stats\n",
    "from matplotlib import pyplot as plt\n",
    "from sklearn.linear_model import LinearRegression\n",
    "\n",
    "import warnings\n",
    "warnings.filterwarnings('ignore')"
   ]
  },
  {
   "cell_type": "markdown",
   "metadata": {},
   "source": [
    "# Домашняя работа №7"
   ]
  },
  {
   "cell_type": "markdown",
   "metadata": {},
   "source": [
    "**№1**.\n",
    "Дана матрица объект-признак\n",
    "```\n",
    "X = [[ 1.22401313,  2.30868478,  3.03636353,  2.69287214],\n",
    "     [-0.18757272,  1.30337355,  5.12093014,  3.46363202],\n",
    "     [-0.81094525,  1.82463398,  5.79686488,  1.86159445],\n",
    "     [ 0.75129018,  2.67392052,  3.65529809,  1.66746094],\n",
    "     [ 0.00972362,  1.97367255,  2.50594319,  1.69755173],\n",
    "     [-0.62972637,  0.77750764,  2.84124027,  4.54410559],\n",
    "     [ 2.29536229,  1.81206697,  1.95026215,  1.51874636],\n",
    "     [ 0.0920418 ,  2.26971361,  7.47708735,  2.61081203],\n",
    "     [ 2.39252799,  3.17563985,  3.61420599,  5.10773362],\n",
    "     [ 0.54983815,  2.87988651,  1.65752765,  1.59635987]]\n",
    "```\n",
    "и значения целевой переменной\n",
    "```\n",
    "y = [ 9.26193358,  9.700363  ,  8.67214805,  8.74796974,  6.18689108,\n",
    "      7.53312713,  7.57643777, 12.44965478, 14.29010746,  6.68361218]\n",
    "```\n",
    "\n",
    "1. Подберите два признака (из четырёх) так, чтобы уровень линейной зависимости целевой переменной от значений этих признаков был максимальным. Другими словами, модель линейной регрессии на этих признаках должна давать наилучший результат.\n",
    "2. Является ли значимым получившееся уравнение регрессии?"
   ]
  },
  {
   "cell_type": "markdown",
   "metadata": {},
   "source": [
    "**Решение пункта 1.** По условию:"
   ]
  },
  {
   "cell_type": "code",
   "execution_count": 347,
   "metadata": {},
   "outputs": [],
   "source": [
    "X = [[ 1.22401313,  2.30868478,  3.03636353,  2.69287214],\n",
    "     [-0.18757272,  1.30337355,  5.12093014,  3.46363202],\n",
    "     [-0.81094525,  1.82463398,  5.79686488,  1.86159445],\n",
    "     [ 0.75129018,  2.67392052,  3.65529809,  1.66746094],\n",
    "     [ 0.00972362,  1.97367255,  2.50594319,  1.69755173],\n",
    "     [-0.62972637,  0.77750764,  2.84124027,  4.54410559],\n",
    "     [ 2.29536229,  1.81206697,  1.95026215,  1.51874636],\n",
    "     [ 0.0920418 ,  2.26971361,  7.47708735,  2.61081203],\n",
    "     [ 2.39252799,  3.17563985,  3.61420599,  5.10773362],\n",
    "     [ 0.54983815,  2.87988651,  1.65752765,  1.59635987]]\n",
    "y = [ 9.26193358,  9.700363  ,  8.67214805,  8.74796974,  6.18689108,\n",
    "      7.53312713,  7.57643777, 12.44965478, 14.29010746,  6.68361218]"
   ]
  },
  {
   "cell_type": "code",
   "execution_count": 348,
   "metadata": {},
   "outputs": [
    {
     "data": {
      "text/html": [
       "<div>\n",
       "<style scoped>\n",
       "    .dataframe tbody tr th:only-of-type {\n",
       "        vertical-align: middle;\n",
       "    }\n",
       "\n",
       "    .dataframe tbody tr th {\n",
       "        vertical-align: top;\n",
       "    }\n",
       "\n",
       "    .dataframe thead th {\n",
       "        text-align: right;\n",
       "    }\n",
       "</style>\n",
       "<table border=\"1\" class=\"dataframe\">\n",
       "  <thead>\n",
       "    <tr style=\"text-align: right;\">\n",
       "      <th></th>\n",
       "      <th>x_0</th>\n",
       "      <th>x_1</th>\n",
       "      <th>x_2</th>\n",
       "      <th>x_3</th>\n",
       "      <th>y</th>\n",
       "    </tr>\n",
       "  </thead>\n",
       "  <tbody>\n",
       "    <tr>\n",
       "      <th>0</th>\n",
       "      <td>1.224013</td>\n",
       "      <td>2.308685</td>\n",
       "      <td>3.036364</td>\n",
       "      <td>2.692872</td>\n",
       "      <td>9.261934</td>\n",
       "    </tr>\n",
       "    <tr>\n",
       "      <th>1</th>\n",
       "      <td>-0.187573</td>\n",
       "      <td>1.303374</td>\n",
       "      <td>5.120930</td>\n",
       "      <td>3.463632</td>\n",
       "      <td>9.700363</td>\n",
       "    </tr>\n",
       "    <tr>\n",
       "      <th>2</th>\n",
       "      <td>-0.810945</td>\n",
       "      <td>1.824634</td>\n",
       "      <td>5.796865</td>\n",
       "      <td>1.861594</td>\n",
       "      <td>8.672148</td>\n",
       "    </tr>\n",
       "    <tr>\n",
       "      <th>3</th>\n",
       "      <td>0.751290</td>\n",
       "      <td>2.673921</td>\n",
       "      <td>3.655298</td>\n",
       "      <td>1.667461</td>\n",
       "      <td>8.747970</td>\n",
       "    </tr>\n",
       "    <tr>\n",
       "      <th>4</th>\n",
       "      <td>0.009724</td>\n",
       "      <td>1.973673</td>\n",
       "      <td>2.505943</td>\n",
       "      <td>1.697552</td>\n",
       "      <td>6.186891</td>\n",
       "    </tr>\n",
       "    <tr>\n",
       "      <th>5</th>\n",
       "      <td>-0.629726</td>\n",
       "      <td>0.777508</td>\n",
       "      <td>2.841240</td>\n",
       "      <td>4.544106</td>\n",
       "      <td>7.533127</td>\n",
       "    </tr>\n",
       "    <tr>\n",
       "      <th>6</th>\n",
       "      <td>2.295362</td>\n",
       "      <td>1.812067</td>\n",
       "      <td>1.950262</td>\n",
       "      <td>1.518746</td>\n",
       "      <td>7.576438</td>\n",
       "    </tr>\n",
       "    <tr>\n",
       "      <th>7</th>\n",
       "      <td>0.092042</td>\n",
       "      <td>2.269714</td>\n",
       "      <td>7.477087</td>\n",
       "      <td>2.610812</td>\n",
       "      <td>12.449655</td>\n",
       "    </tr>\n",
       "    <tr>\n",
       "      <th>8</th>\n",
       "      <td>2.392528</td>\n",
       "      <td>3.175640</td>\n",
       "      <td>3.614206</td>\n",
       "      <td>5.107734</td>\n",
       "      <td>14.290107</td>\n",
       "    </tr>\n",
       "    <tr>\n",
       "      <th>9</th>\n",
       "      <td>0.549838</td>\n",
       "      <td>2.879887</td>\n",
       "      <td>1.657528</td>\n",
       "      <td>1.596360</td>\n",
       "      <td>6.683612</td>\n",
       "    </tr>\n",
       "  </tbody>\n",
       "</table>\n",
       "</div>"
      ],
      "text/plain": [
       "        x_0       x_1       x_2       x_3          y\n",
       "0  1.224013  2.308685  3.036364  2.692872   9.261934\n",
       "1 -0.187573  1.303374  5.120930  3.463632   9.700363\n",
       "2 -0.810945  1.824634  5.796865  1.861594   8.672148\n",
       "3  0.751290  2.673921  3.655298  1.667461   8.747970\n",
       "4  0.009724  1.973673  2.505943  1.697552   6.186891\n",
       "5 -0.629726  0.777508  2.841240  4.544106   7.533127\n",
       "6  2.295362  1.812067  1.950262  1.518746   7.576438\n",
       "7  0.092042  2.269714  7.477087  2.610812  12.449655\n",
       "8  2.392528  3.175640  3.614206  5.107734  14.290107\n",
       "9  0.549838  2.879887  1.657528  1.596360   6.683612"
      ]
     },
     "execution_count": 348,
     "metadata": {},
     "output_type": "execute_result"
    }
   ],
   "source": [
    "df = pd.DataFrame(X, columns = ['x_0', 'x_1', 'x_2', 'x_3'])\n",
    "df['y'] = y\n",
    "df"
   ]
  },
  {
   "cell_type": "code",
   "execution_count": 349,
   "metadata": {},
   "outputs": [
    {
     "data": {
      "text/html": [
       "<div>\n",
       "<style scoped>\n",
       "    .dataframe tbody tr th:only-of-type {\n",
       "        vertical-align: middle;\n",
       "    }\n",
       "\n",
       "    .dataframe tbody tr th {\n",
       "        vertical-align: top;\n",
       "    }\n",
       "\n",
       "    .dataframe thead th {\n",
       "        text-align: right;\n",
       "    }\n",
       "</style>\n",
       "<table border=\"1\" class=\"dataframe\">\n",
       "  <thead>\n",
       "    <tr style=\"text-align: right;\">\n",
       "      <th></th>\n",
       "      <th>x_0</th>\n",
       "      <th>x_1</th>\n",
       "      <th>x_2</th>\n",
       "      <th>x_3</th>\n",
       "      <th>y</th>\n",
       "    </tr>\n",
       "  </thead>\n",
       "  <tbody>\n",
       "    <tr>\n",
       "      <th>x_0</th>\n",
       "      <td>1.000000</td>\n",
       "      <td>0.583421</td>\n",
       "      <td>-0.413786</td>\n",
       "      <td>0.088236</td>\n",
       "      <td>0.351677</td>\n",
       "    </tr>\n",
       "    <tr>\n",
       "      <th>x_1</th>\n",
       "      <td>0.583421</td>\n",
       "      <td>1.000000</td>\n",
       "      <td>-0.093920</td>\n",
       "      <td>-0.145230</td>\n",
       "      <td>0.399858</td>\n",
       "    </tr>\n",
       "    <tr>\n",
       "      <th>x_2</th>\n",
       "      <td>-0.413786</td>\n",
       "      <td>-0.093920</td>\n",
       "      <td>1.000000</td>\n",
       "      <td>0.129481</td>\n",
       "      <td>0.582637</td>\n",
       "    </tr>\n",
       "    <tr>\n",
       "      <th>x_3</th>\n",
       "      <td>0.088236</td>\n",
       "      <td>-0.145230</td>\n",
       "      <td>0.129481</td>\n",
       "      <td>1.000000</td>\n",
       "      <td>0.602917</td>\n",
       "    </tr>\n",
       "    <tr>\n",
       "      <th>y</th>\n",
       "      <td>0.351677</td>\n",
       "      <td>0.399858</td>\n",
       "      <td>0.582637</td>\n",
       "      <td>0.602917</td>\n",
       "      <td>1.000000</td>\n",
       "    </tr>\n",
       "  </tbody>\n",
       "</table>\n",
       "</div>"
      ],
      "text/plain": [
       "          x_0       x_1       x_2       x_3         y\n",
       "x_0  1.000000  0.583421 -0.413786  0.088236  0.351677\n",
       "x_1  0.583421  1.000000 -0.093920 -0.145230  0.399858\n",
       "x_2 -0.413786 -0.093920  1.000000  0.129481  0.582637\n",
       "x_3  0.088236 -0.145230  0.129481  1.000000  0.602917\n",
       "y    0.351677  0.399858  0.582637  0.602917  1.000000"
      ]
     },
     "execution_count": 349,
     "metadata": {},
     "output_type": "execute_result"
    }
   ],
   "source": [
    "# матрица корреляции\n",
    "df.corr()"
   ]
  },
  {
   "cell_type": "code",
   "execution_count": 350,
   "metadata": {},
   "outputs": [
    {
     "data": {
      "image/png": "[encoded data removed]",
      "text/plain": [
       "<Figure size 432x432 with 2 Axes>"
      ]
     },
     "metadata": {},
     "output_type": "display_data"
    }
   ],
   "source": [
    "#визуализируем матрицу корреляции\n",
    "plt.figure(figsize = (6,6))\n",
    "\n",
    "sns.set(font_scale=1.4)\n",
    "\n",
    "corr_matrix = df.corr()\n",
    "corr_matrix = np.round(corr_matrix, 2)\n",
    "corr_matrix[np.abs(corr_matrix) < 0.3] = 0\n",
    "sns.heatmap(corr_matrix, annot=True, linewidths=.5, cmap='coolwarm')\n",
    "\n",
    "plt.title('Correlation matrix')\n",
    "plt.show()"
   ]
  },
  {
   "cell_type": "code",
   "execution_count": 351,
   "metadata": {},
   "outputs": [
    {
     "data": {
      "text/plain": [
       "x_0    0.351677\n",
       "x_1    0.399858\n",
       "x_2    0.582637\n",
       "x_3    0.602917\n",
       "Name: y, dtype: float64"
      ]
     },
     "execution_count": 351,
     "metadata": {},
     "output_type": "execute_result"
    }
   ],
   "source": [
    "df.corr().iloc[:-1, -1]"
   ]
  },
  {
   "cell_type": "code",
   "execution_count": 352,
   "metadata": {},
   "outputs": [
    {
     "data": {
      "image/png": "[encoded data removed]",
      "text/plain": [
       "<Figure size 576x288 with 1 Axes>"
      ]
     },
     "metadata": {},
     "output_type": "display_data"
    }
   ],
   "source": [
    "# Строим матрицу корреляции целевой переменной y с признаками датасета df\n",
    "corr_with_target = df.corr().iloc[:-1, -1].sort_values(ascending=False)\n",
    "\n",
    "plt.figure(figsize=(8, 4))\n",
    "\n",
    "sns.barplot(x=corr_with_target.values, y=corr_with_target.index)\n",
    "\n",
    "plt.title('Correlation with target variable')\n",
    "plt.show()"
   ]
  },
  {
   "cell_type": "markdown",
   "metadata": {},
   "source": [
    "C целевой переменной больше всего коррелируют признаки x_2 и x_3."
   ]
  },
  {
   "cell_type": "markdown",
   "metadata": {},
   "source": [
    "Выясним, модель с какими двумя признаками дает лучшую оценку R2."
   ]
  },
  {
   "cell_type": "code",
   "execution_count": 353,
   "metadata": {},
   "outputs": [
    {
     "name": "stdout",
     "output_type": "stream",
     "text": [
      "признаки: x_0, x_1; R2 = 0.18113594742585215\n",
      "признаки: x_0, x_2; R2 = 0.7634246238793152\n",
      "признаки: x_0, x_3; R2 = 0.45329667831440756\n",
      "признаки: x_1, x_0; R2 = 0.18113594742585204\n",
      "признаки: x_1, x_2; R2 = 0.5479482734039012\n",
      "признаки: x_1, x_3; R2 = 0.6062055761129932\n",
      "признаки: x_2, x_0; R2 = 0.7634246238793152\n",
      "признаки: x_2, x_1; R2 = 0.547948273403901\n",
      "признаки: x_2, x_3; R2 = 0.6224419876505322\n",
      "признаки: x_3, x_0; R2 = 0.4532966783144079\n",
      "признаки: x_3, x_1; R2 = 0.6062055761129933\n",
      "признаки: x_3, x_2; R2 = 0.622441987650532\n"
     ]
    }
   ],
   "source": [
    "pr_list1 = df.columns.tolist()[:-1]  #создаем спискок из всех признаков\n",
    "for pr1 in pr_list1:\n",
    "    pr_list2 = df.columns.tolist()[:-1]\n",
    "    pr_list2.remove(pr1) # список без pr1\n",
    "    for pr2 in pr_list2:\n",
    "        X_pr = df[[pr1, pr2]]\n",
    "        X_pr['1'] = np.ones((X_pr.shape[0], 1))\n",
    "        X_pr[['1', pr1, pr2]]\n",
    "        X = X_pr[['1', pr1, pr2]].values\n",
    "        XTX = X.T.dot(X)\n",
    "        XTX_inv = np.linalg.inv(XTX)\n",
    "        b = XTX_inv.dot(X.T).dot(y)\n",
    "        z = X.dot(b)\n",
    "        R2 = 1 - ((y - z)**2).sum() / sum_of_squares(df['y'])\n",
    "        print(f'признаки: {pr1}, {pr2}; R2 = {R2}')\n",
    "       \n",
    "#Или так\n",
    "#pr_list1 = df.columns.tolist()[:-1]  #создаем спискок из всех признаков\n",
    "#for pr1 in pr_list1:\n",
    "#    pr_list2 = df.columns.tolist()[:-1]\n",
    "#    pr_list2.remove(pr1) # список без pr1\n",
    "#    for pr2 in pr_list2:\n",
    "#        X_pr = df[[pr1, pr2]]\n",
    "#        X_pr['1'] = np.ones((X_pr.shape[0], 1))\n",
    "#        X_pr[['1', pr1, pr2]]\n",
    "#        X = X_pr[['1', pr1, pr2]].values\n",
    "#        model = sm.OLS(y, X)\n",
    "#        results = model.fit()\n",
    "#        print(f'признаки: {pr1}, {pr2}')\n",
    "#        print(results.summary(), '\\n')  \n",
    "#   "
   ]
  },
  {
   "cell_type": "markdown",
   "metadata": {},
   "source": [
    "*Вывод:* лучшую оценку R2 имеет модель с признаками x_0 и x_2."
   ]
  },
  {
   "cell_type": "markdown",
   "metadata": {},
   "source": [
    "Построим модель линейной регрессии, используя эти признаки."
   ]
  },
  {
   "cell_type": "markdown",
   "metadata": {},
   "source": [
    "*1 способ (без встроенных функций)*."
   ]
  },
  {
   "cell_type": "code",
   "execution_count": 354,
   "metadata": {},
   "outputs": [
    {
     "data": {
      "text/plain": [
       "array([[ 1.        ,  1.22401313,  3.03636353],\n",
       "       [ 1.        , -0.18757272,  5.12093014],\n",
       "       [ 1.        , -0.81094525,  5.79686488],\n",
       "       [ 1.        ,  0.75129018,  3.65529809],\n",
       "       [ 1.        ,  0.00972362,  2.50594319],\n",
       "       [ 1.        , -0.62972637,  2.84124027],\n",
       "       [ 1.        ,  2.29536229,  1.95026215],\n",
       "       [ 1.        ,  0.0920418 ,  7.47708735],\n",
       "       [ 1.        ,  2.39252799,  3.61420599],\n",
       "       [ 1.        ,  0.54983815,  1.65752765]])"
      ]
     },
     "execution_count": 354,
     "metadata": {},
     "output_type": "execute_result"
    }
   ],
   "source": [
    "# матрица признаков\n",
    "X_pr = df[['x_0', 'x_2']]\n",
    "\n",
    "#добавляем к матрице признаков столбец из единиц\n",
    "X_pr['1'] = np.ones((X_pr.shape[0], 1))\n",
    "X_pr[['1', 'x_0', 'x_2']]\n",
    "X = X_pr[['1', 'x_0', 'x_2']].values\n",
    "X"
   ]
  },
  {
   "cell_type": "markdown",
   "metadata": {},
   "source": [
    "Запишем матрицу  $𝑋^T𝑋$  и посчитаем её определитель."
   ]
  },
  {
   "cell_type": "code",
   "execution_count": 355,
   "metadata": {},
   "outputs": [
    {
     "data": {
      "text/plain": [
       "2835.3600226240915"
      ]
     },
     "execution_count": 355,
     "metadata": {},
     "output_type": "execute_result"
    }
   ],
   "source": [
    "XTX = X.T.dot(X)\n",
    "\n",
    "np.linalg.det(XTX)"
   ]
  },
  {
   "cell_type": "markdown",
   "metadata": {},
   "source": [
    "Определитель не равен 0, значит обратная матрица существует."
   ]
  },
  {
   "cell_type": "code",
   "execution_count": 356,
   "metadata": {},
   "outputs": [
    {
     "name": "stdout",
     "output_type": "stream",
     "text": [
      "[3.62455695 1.62531203 1.21134979]\n"
     ]
    }
   ],
   "source": [
    "XTX_inv = np.linalg.inv(XTX)\n",
    "\n",
    "b = XTX_inv.dot(X.T).dot(y)\n",
    "\n",
    "print(b)"
   ]
  },
  {
   "cell_type": "markdown",
   "metadata": {},
   "source": [
    "Модель регрессии имеет вид:\n",
    "$$y = 3.62 + 1.62 \\cdot x_1 + 1.21 \\cdot x_2,$$\n",
    "где $x_1$ — 0-ой признак, $x_2$ — 2-ий признак."
   ]
  },
  {
   "cell_type": "markdown",
   "metadata": {},
   "source": [
    "*2 способ (c помощью встроенных функций)*."
   ]
  },
  {
   "cell_type": "code",
   "execution_count": 357,
   "metadata": {},
   "outputs": [
    {
     "name": "stdout",
     "output_type": "stream",
     "text": [
      "<class 'sklearn.linear_model._base.LinearRegression'>\n"
     ]
    },
    {
     "data": {
      "text/plain": [
       "(3.6245569493851146, array([0.        , 1.62531203, 1.21134979]))"
      ]
     },
     "execution_count": 357,
     "metadata": {},
     "output_type": "execute_result"
    }
   ],
   "source": [
    "model = LinearRegression().fit(X, y)\n",
    "print(type(model))\n",
    "model.intercept_, model.coef_"
   ]
  },
  {
   "cell_type": "markdown",
   "metadata": {},
   "source": [
    "Посчитаем коэффициент детерминации"
   ]
  },
  {
   "cell_type": "code",
   "execution_count": 358,
   "metadata": {},
   "outputs": [
    {
     "data": {
      "text/plain": [
       "0.7634246238793152"
      ]
     },
     "execution_count": 358,
     "metadata": {},
     "output_type": "execute_result"
    }
   ],
   "source": [
    "def sum_of_squares(samples):\n",
    "    return ((samples - samples.mean()) ** 2).sum()\n",
    "\n",
    "z = X.dot(b)\n",
    "\n",
    "R2 = 1 - ((y - z)**2).sum() / sum_of_squares(df['y'])\n",
    "R2"
   ]
  },
  {
   "cell_type": "markdown",
   "metadata": {},
   "source": [
    "Коэффициент детерминации, равный $0.763$, означает, что $76 \\%$ дисперсии переменной $y$ учитывается моделью."
   ]
  },
  {
   "cell_type": "markdown",
   "metadata": {},
   "source": [
    "**Решение пункта 2.** Проверим на значимость построенное уравнение линейной регрессии."
   ]
  },
  {
   "cell_type": "markdown",
   "metadata": {},
   "source": [
    "Нулевая гипотеза $H_0$: теоретический коэффициент детерминации (т.е. для модели, построенной для случайных величин) равен  0 , т.е. что в имеющихся данных вообще нет никакой зависимости.\n",
    "\n",
    "Альтернативная гипотеза $H_1$: теоретический коэффициент детерминации не равен 0.\n",
    "\n",
    "Критерий: $F = \\dfrac{R^2 / m}{(1 - R^2) / (n - m - 1)},$\n",
    "\n",
    "где $R^2$ — коэффициент детерминации, $n$ — число наблюдений, $m$ — число факторов. \n",
    "\n",
    "Имеет распределение Фишера с параметрами $k_1 = m$, $k_2 = n - m - 1$.\n",
    "\n",
    "Pассматривается правосторонняя критическая область $\\Omega_\\alpha = \\left( t_{1 - \\alpha, \\: k_1, k_2}, \\infty \\right)$, где $t_{\\beta, \\: k_1, k_2}$ — квантиль порядка $\\beta$ для распределения Фишера с параметрами $k_1$, $k_2$."
   ]
  },
  {
   "cell_type": "code",
   "execution_count": 359,
   "metadata": {},
   "outputs": [
    {
     "data": {
      "text/plain": [
       "(2, 7)"
      ]
     },
     "execution_count": 359,
     "metadata": {},
     "output_type": "execute_result"
    }
   ],
   "source": [
    "n = X.shape[0]\n",
    "m = X.shape[1] - 1  # поскольку добавляли фиктивный столбец\n",
    "\n",
    "k1 = m\n",
    "k2 = n - m - 1\n",
    "\n",
    "k1, k2"
   ]
  },
  {
   "cell_type": "markdown",
   "metadata": {},
   "source": [
    "Критическая область:"
   ]
  },
  {
   "cell_type": "code",
   "execution_count": 360,
   "metadata": {},
   "outputs": [
    {
     "data": {
      "text/plain": [
       "4.73741412777588"
      ]
     },
     "execution_count": 360,
     "metadata": {},
     "output_type": "execute_result"
    }
   ],
   "source": [
    "alpha = 0.05\n",
    "\n",
    "t = stats.f.ppf(1 - alpha, k1, k2)\n",
    "t"
   ]
  },
  {
   "cell_type": "markdown",
   "metadata": {},
   "source": [
    "Критическая область: $(4.73; +\\infty)$."
   ]
  },
  {
   "cell_type": "markdown",
   "metadata": {},
   "source": [
    "Вычисляем наблюдаемое значение, используя критерий."
   ]
  },
  {
   "cell_type": "code",
   "execution_count": 361,
   "metadata": {
    "scrolled": true
   },
   "outputs": [
    {
     "data": {
      "text/plain": [
       "11.29443912292265"
      ]
     },
     "execution_count": 361,
     "metadata": {},
     "output_type": "execute_result"
    }
   ],
   "source": [
    "F = (R2 / k1) / ((1 - R2) / k2)\n",
    "F"
   ]
  },
  {
   "cell_type": "markdown",
   "metadata": {},
   "source": [
    "Поскольку наблюдаемое значение 11.29 попало в критическую область, то нулевую гипотезу о равенстве теоретического коэффициента детерминации 0 отвергаем. Следовательно, полученное уравнение регрессии значимо."
   ]
  },
  {
   "cell_type": "code",
   "execution_count": 362,
   "metadata": {},
   "outputs": [
    {
     "name": "stdout",
     "output_type": "stream",
     "text": [
      "                            OLS Regression Results                            \n",
      "==============================================================================\n",
      "Dep. Variable:                      y   R-squared:                       0.763\n",
      "Model:                            OLS   Adj. R-squared:                  0.696\n",
      "Method:                 Least Squares   F-statistic:                     11.29\n",
      "Date:                Mon, 23 Aug 2021   Prob (F-statistic):            0.00644\n",
      "Time:                        01:32:18   Log-Likelihood:                -15.767\n",
      "No. Observations:                  10   AIC:                             37.53\n",
      "Df Residuals:                       7   BIC:                             38.44\n",
      "Df Model:                           2                                         \n",
      "Covariance Type:            nonrobust                                         \n",
      "==============================================================================\n",
      "                 coef    std err          t      P>|t|      [0.025      0.975]\n",
      "------------------------------------------------------------------------------\n",
      "const          3.6246      1.261      2.875      0.024       0.643       6.606\n",
      "x1             1.6253      0.459      3.542      0.009       0.540       2.710\n",
      "x2             1.2113      0.278      4.351      0.003       0.553       1.870\n",
      "==============================================================================\n",
      "Omnibus:                        1.625   Durbin-Watson:                   2.459\n",
      "Prob(Omnibus):                  0.444   Jarque-Bera (JB):                0.302\n",
      "Skew:                           0.418   Prob(JB):                        0.860\n",
      "Kurtosis:                       3.161   Cond. No.                         12.7\n",
      "==============================================================================\n",
      "\n",
      "Notes:\n",
      "[1] Standard Errors assume that the covariance matrix of the errors is correctly specified.\n"
     ]
    }
   ],
   "source": [
    "# статистика по построенной модели\n",
    "import statsmodels.api as sm\n",
    "model = sm.OLS(y, X)\n",
    "results = model.fit()\n",
    "print(results.summary())"
   ]
  },
  {
   "cell_type": "markdown",
   "metadata": {},
   "source": [
    "**№2**.\n",
    "Даны значения величины заработной платы заемщиков банка (`salary`) и значения их поведенческого кредитного скоринга (`scoring`):\n",
    "```\n",
    "salary = [35, 45, 190, 200, 40, 70, 54, 150, 120, 110]\n",
    "scoring = [401, 574, 874, 919, 459, 739, 653, 902, 746, 832]\n",
    "```\n",
    "Возьмём в качестве признака значение `salary`, а в качестве целевой переменной - `scoring`.\n",
    "\n",
    "1. Найдите коэффициенты линейной регрессии с помощью формул для парной регрессии, а затем с помощью метода наименьших квадратов.\n",
    "2. Постройте `scatter plot` по данным и отметьте на нём прямую линейной регрессии, полученную в п. 1.\n",
    "3. Посчитайте коэффициент детерминации.\n",
    "4. Оцените построенное уравнение регрессии с помощью F-критерия Фишера.\n",
    "5. Оцените значимость получившихся параметров уравнения регрессии и постройте для них доверительные интервалы с помощью t-статистики Стьюдента.\n",
    "6. (доп) Посчитать среднюю ошибку аппроксимации"
   ]
  },
  {
   "cell_type": "markdown",
   "metadata": {},
   "source": [
    "**Решение пункта 1**. Найдем коэффициенты линейной регрессии с помощью формул для парной регрессии.\n",
    "\n",
    "Пусть $x = [35, 45, 190, 200, 40, 70, 54, 150, 120, 110]$, $y = [401, 574, 874, 919, 459, 739, 653, 902, 746, 832]$. \n",
    "\n",
    "Уравнение линейной (парной) регрессии $y = b_0 + b_1 x + \\varepsilon$, где\n",
    "$$b_1 = \\frac{\\overline{yx} - \\overline{y} \\cdot {\\overline{x}}}{\\overline{x^2} - (\\overline{x})^2}, \\: b_0 = \\overline{y} - b_1 \\cdot {\\overline{x}}.$$"
   ]
  },
  {
   "cell_type": "code",
   "execution_count": 363,
   "metadata": {},
   "outputs": [],
   "source": [
    "x = np.array([35, 45, 190, 200, 40, 70, 54, 150, 120, 110])\n",
    "y = np.array([401, 574, 874, 919, 459, 739, 653, 902, 746, 832])"
   ]
  },
  {
   "cell_type": "code",
   "execution_count": 364,
   "metadata": {},
   "outputs": [
    {
     "data": {
      "text/plain": [
       "(444.1773573243596, 2.620538882402765)"
      ]
     },
     "execution_count": 364,
     "metadata": {},
     "output_type": "execute_result"
    }
   ],
   "source": [
    "# находим коэффициенты уравнения линейной регрессии\n",
    "b1 = (np.mean(x * y) - np.mean(x) * np.mean(y)) / (np.mean(x ** 2) - np.mean(x) ** 2)\n",
    "b0 = np.mean(y) - b1 * np.mean(x)\n",
    "\n",
    "b0, b1"
   ]
  },
  {
   "cell_type": "markdown",
   "metadata": {},
   "source": [
    "Модель линейной регрессии: $y = 444.18 + 2.62x$"
   ]
  },
  {
   "cell_type": "markdown",
   "metadata": {},
   "source": [
    "Найдем коэффициенты линейной регрессии с помощью метода наименьших квадратов."
   ]
  },
  {
   "cell_type": "markdown",
   "metadata": {},
   "source": [
    "К матрице, состоящей из принаков, добавим столбец из единиц."
   ]
  },
  {
   "cell_type": "code",
   "execution_count": 365,
   "metadata": {},
   "outputs": [
    {
     "data": {
      "text/plain": [
       "array([[  1.,  35.],\n",
       "       [  1.,  45.],\n",
       "       [  1., 190.],\n",
       "       [  1., 200.],\n",
       "       [  1.,  40.],\n",
       "       [  1.,  70.],\n",
       "       [  1.,  54.],\n",
       "       [  1., 150.],\n",
       "       [  1., 120.],\n",
       "       [  1., 110.]])"
      ]
     },
     "execution_count": 365,
     "metadata": {},
     "output_type": "execute_result"
    }
   ],
   "source": [
    "X = pd.DataFrame({'x_i':x})\n",
    "ones = np.ones((X.shape[0], 1))\n",
    "X = np.hstack((ones, X))\n",
    "X"
   ]
  },
  {
   "cell_type": "markdown",
   "metadata": {},
   "source": [
    "Составим матрицу $X^TX$ и вычислим ее определитель."
   ]
  },
  {
   "cell_type": "code",
   "execution_count": 366,
   "metadata": {},
   "outputs": [
    {
     "data": {
      "text/plain": [
       "349464.00000000023"
      ]
     },
     "execution_count": 366,
     "metadata": {},
     "output_type": "execute_result"
    }
   ],
   "source": [
    "XTX = X.T.dot(X)\n",
    "\n",
    "np.linalg.det(XTX)"
   ]
  },
  {
   "cell_type": "markdown",
   "metadata": {},
   "source": [
    "Определитель отличен от 0, значит обратная матрица существует. Вычисляем коэффициенты модели."
   ]
  },
  {
   "cell_type": "code",
   "execution_count": 367,
   "metadata": {},
   "outputs": [
    {
     "name": "stdout",
     "output_type": "stream",
     "text": [
      "[444.17735732   2.62053888]\n"
     ]
    }
   ],
   "source": [
    "XTX_inv = np.linalg.inv(XTX)\n",
    "\n",
    "b = XTX_inv.dot(X.T).dot(y)\n",
    "\n",
    "print(b)"
   ]
  },
  {
   "cell_type": "markdown",
   "metadata": {},
   "source": [
    "Модель линейной (парной) регрессии: $y = 444.18 + 2.62x$."
   ]
  },
  {
   "cell_type": "markdown",
   "metadata": {},
   "source": [
    "Коэффициенты модели линейной регрессии с помощью библиотеки sklearn"
   ]
  },
  {
   "cell_type": "code",
   "execution_count": 368,
   "metadata": {},
   "outputs": [
    {
     "name": "stdout",
     "output_type": "stream",
     "text": [
      "<class 'sklearn.linear_model._base.LinearRegression'>\n"
     ]
    },
    {
     "data": {
      "text/plain": [
       "(444.1773573243595, array([0.        , 2.62053888]))"
      ]
     },
     "execution_count": 368,
     "metadata": {},
     "output_type": "execute_result"
    }
   ],
   "source": [
    "from sklearn.linear_model import LinearRegression\n",
    "model = LinearRegression().fit(X, y)\n",
    "print(type(model))\n",
    "model.intercept_, model.coef_"
   ]
  },
  {
   "cell_type": "markdown",
   "metadata": {},
   "source": [
    "**Решение пункта 2**. Строим диаграмму рассеивания x,y и прямую, соответствующую уравнению регрессии"
   ]
  },
  {
   "cell_type": "code",
   "execution_count": 369,
   "metadata": {},
   "outputs": [
    {
     "data": {
      "image/png": "[encoded data removed]",
      "text/plain": [
       "<Figure size 432x288 with 1 Axes>"
      ]
     },
     "metadata": {},
     "output_type": "display_data"
    }
   ],
   "source": [
    "x = np.array([35, 45, 190, 200, 40, 70, 54, 150, 120, 110])\n",
    "y = np.array([401, 574, 874, 919, 459, 739, 653, 902, 746, 832])\n",
    "\n",
    "ox = x\n",
    "oy = b0 + b1 * ox\n",
    "\n",
    "plt.scatter(x, y)\n",
    "plt.plot(ox, oy, color='red', alpha=0.5)\n",
    "\n",
    "plt.xlabel('площадь')\n",
    "plt.ylabel('цена');"
   ]
  },
  {
   "cell_type": "markdown",
   "metadata": {},
   "source": [
    "**Решение пункта 3**. Найдем коэффициент детерминации."
   ]
  },
  {
   "cell_type": "code",
   "execution_count": 370,
   "metadata": {},
   "outputs": [],
   "source": [
    "def sum_of_squares(samples):\n",
    "    return ((samples - samples.mean()) ** 2).sum()"
   ]
  },
  {
   "cell_type": "code",
   "execution_count": 371,
   "metadata": {},
   "outputs": [
    {
     "data": {
      "text/plain": [
       "0.7876386635293686"
      ]
     },
     "execution_count": 371,
     "metadata": {},
     "output_type": "execute_result"
    }
   ],
   "source": [
    "z = b0 + b1 * x\n",
    "R2 = 1 - ((y - z)**2).sum() / sum_of_squares(y)\n",
    "R2"
   ]
  },
  {
   "cell_type": "markdown",
   "metadata": {},
   "source": [
    "Коэффициент детерминации, равный $0.788$, означает, что $78 \\%$ дисперсии переменной $y$ учитывается моделью."
   ]
  },
  {
   "cell_type": "markdown",
   "metadata": {},
   "source": [
    "**Решение пункта 4**. Оценим построенное уравнение регрессии с помощью F-критерия Фишера."
   ]
  },
  {
   "cell_type": "markdown",
   "metadata": {},
   "source": [
    "Нулевая гипотеза $H_0$: теоретический коэффициент детерминации (т.е. для модели, построенной для случайных величин) равен  0 , т.е. что в имеющихся данных вообще нет никакой зависимости.\n",
    "\n",
    "Альтернативная гипотеза $H_1$: теоретический коэффициент детерминации не равен 0.\n",
    "\n",
    "Критерий: $F = \\dfrac{R^2 / m}{(1 - R^2) / (n - m - 1)},$\n",
    "\n",
    "где $R^2$ — коэффициент детерминации, $n$ — число наблюдений, $m$ — число факторов. \n",
    "\n",
    "Имеет распределение Фишера с параметрами $k_1 = m$, $k_2 = n - m - 1$.\n",
    "\n",
    "Pассматривается правосторонняя критическая область $\\Omega_\\alpha = \\left( t_{1 - \\alpha, \\: k_1, k_2}, \\infty \\right)$, где $t_{\\beta, \\: k_1, k_2}$ — квантиль порядка $\\beta$ для распределения Фишера с параметрами $k_1$, $k_2$."
   ]
  },
  {
   "cell_type": "code",
   "execution_count": 372,
   "metadata": {},
   "outputs": [
    {
     "data": {
      "text/plain": [
       "(1, 8)"
      ]
     },
     "execution_count": 372,
     "metadata": {},
     "output_type": "execute_result"
    }
   ],
   "source": [
    "n = X.shape[0]\n",
    "m = X.shape[1] - 1\n",
    "\n",
    "k1 = m\n",
    "k2 = n - m - 1\n",
    "\n",
    "k1, k2"
   ]
  },
  {
   "cell_type": "markdown",
   "metadata": {},
   "source": [
    "Критическая область:"
   ]
  },
  {
   "cell_type": "code",
   "execution_count": 373,
   "metadata": {},
   "outputs": [
    {
     "data": {
      "text/plain": [
       "5.317655071578714"
      ]
     },
     "execution_count": 373,
     "metadata": {},
     "output_type": "execute_result"
    }
   ],
   "source": [
    "alpha = 0.05\n",
    "\n",
    "t = stats.f.ppf(1 - alpha, k1, k2)\n",
    "t"
   ]
  },
  {
   "cell_type": "markdown",
   "metadata": {},
   "source": [
    "Критическая область: $(5.318; +\\infty)$."
   ]
  },
  {
   "cell_type": "markdown",
   "metadata": {},
   "source": [
    "Вычисляем наблюдаемое значение, используя критерий."
   ]
  },
  {
   "cell_type": "code",
   "execution_count": 374,
   "metadata": {
    "scrolled": true
   },
   "outputs": [
    {
     "data": {
      "text/plain": [
       "29.67164085966451"
      ]
     },
     "execution_count": 374,
     "metadata": {},
     "output_type": "execute_result"
    }
   ],
   "source": [
    "F = (R2 / k1) / ((1 - R2) / k2)\n",
    "F"
   ]
  },
  {
   "cell_type": "markdown",
   "metadata": {},
   "source": [
    "Поскольку наблюдаемое значение 29.67 попало в критическую область, то нулевую гипотезу о равенстве теоретического коэффициента детерминации 0 отвергаем. Следовательно, полученное уравнение регрессии значимо."
   ]
  },
  {
   "cell_type": "markdown",
   "metadata": {},
   "source": [
    "**Решение пункта 5**. Оценим значимость получившихся параметров уравнения регрессии и постройте для них доверительные интервалы с помощью t-статистики Стьюдента."
   ]
  },
  {
   "cell_type": "markdown",
   "metadata": {},
   "source": [
    "Построим доверительный интервал для коэффициента наклона b1 = 2.6205"
   ]
  },
  {
   "cell_type": "code",
   "execution_count": 375,
   "metadata": {},
   "outputs": [],
   "source": [
    "def standard_error_slope(\n",
    "        x: np.ndarray,\n",
    "        y: np.ndarray,\n",
    "        z: np.ndarray,\n",
    ") -> float:\n",
    "    \"\"\"Стандартная ошибка коэффициента наклона.\n",
    "    \"\"\"\n",
    "    \n",
    "    n = x.shape[0]\n",
    "    \n",
    "    upper = ((y - z) ** 2).sum() / (n - 2)\n",
    "    lower = ((x - x.mean()) ** 2).sum()\n",
    "    \n",
    "    return np.sqrt(upper / lower)"
   ]
  },
  {
   "cell_type": "code",
   "execution_count": 376,
   "metadata": {},
   "outputs": [
    {
     "data": {
      "text/plain": [
       "0.3078409630645926"
      ]
     },
     "execution_count": 376,
     "metadata": {},
     "output_type": "execute_result"
    }
   ],
   "source": [
    "s_slope = standard_error_slope(X, y, z)\n",
    "s_slope"
   ]
  },
  {
   "cell_type": "code",
   "execution_count": 377,
   "metadata": {},
   "outputs": [
    {
     "data": {
      "text/plain": [
       "(-2.3060041350333704, 2.3060041350333704)"
      ]
     },
     "execution_count": 377,
     "metadata": {},
     "output_type": "execute_result"
    }
   ],
   "source": [
    "gamma = 0.95 #уровень доверия\n",
    "alpha = 1 - gamma\n",
    "\n",
    "n = X.shape[0]\n",
    "\n",
    "t1 = stats.t.ppf(alpha / 2, df=n - 2)\n",
    "t2 = stats.t.ppf(1 - alpha / 2, df=n - 2)\n",
    "\n",
    "t1, t2"
   ]
  },
  {
   "cell_type": "markdown",
   "metadata": {},
   "source": [
    "Доверительный интервал для b1:"
   ]
  },
  {
   "cell_type": "code",
   "execution_count": 378,
   "metadata": {
    "scrolled": true
   },
   "outputs": [
    {
     "data": {
      "text/plain": [
       "(1.9106563486431594, 3.3304214161623706)"
      ]
     },
     "execution_count": 378,
     "metadata": {},
     "output_type": "execute_result"
    }
   ],
   "source": [
    "(b1 + t1 * s_slope, b1 + t2 * s_slope)"
   ]
  },
  {
   "cell_type": "markdown",
   "metadata": {},
   "source": [
    "Построим доверительный интервал для коэффициента сдвига b0 = 444.1774."
   ]
  },
  {
   "cell_type": "code",
   "execution_count": 379,
   "metadata": {},
   "outputs": [],
   "source": [
    "def standard_error_intercept(\n",
    "        x: np.ndarray,\n",
    "        y: np.ndarray,\n",
    "        z: np.ndarray,\n",
    ") -> float:\n",
    "    \"\"\"Стандартная ошибка коэффициента сдвига.\n",
    "    \"\"\"\n",
    "    \n",
    "    return standard_error_slope(x, y, z) * np.sqrt((x ** 2).mean())"
   ]
  },
  {
   "cell_type": "code",
   "execution_count": 380,
   "metadata": {},
   "outputs": [
    {
     "data": {
      "text/plain": [
       "25.55042903894264"
      ]
     },
     "execution_count": 380,
     "metadata": {},
     "output_type": "execute_result"
    }
   ],
   "source": [
    "s_intercept = standard_error_intercept(X, y, z)\n",
    "s_intercept"
   ]
  },
  {
   "cell_type": "markdown",
   "metadata": {},
   "source": [
    "Доверительный интервал для b0:"
   ]
  },
  {
   "cell_type": "code",
   "execution_count": 381,
   "metadata": {
    "scrolled": true
   },
   "outputs": [
    {
     "data": {
      "text/plain": [
       "(385.25796230868116, 503.09675234003805)"
      ]
     },
     "execution_count": 381,
     "metadata": {},
     "output_type": "execute_result"
    }
   ],
   "source": [
    "(b0 + t1 * s_intercept, b0 + t2 * s_intercept)"
   ]
  },
  {
   "cell_type": "markdown",
   "metadata": {},
   "source": [
    "**Решение пункта 6(доп)**. Посчитаем среднюю ошибку аппроксимации\n",
    "$$\\overline{A} = \\frac{1}{n} \\displaystyle\\sum_{i=1}^{n} \\Bigl| {{\\frac{y_i - z_i}{y_i}} \\Bigr|}.$$\n",
    "\n",
    "Если $\\overline{A}$ не превышает $8-10 \\%$, можно сказать, что теоретические значения близки к тем, которые выдает модель линейной регрессии."
   ]
  },
  {
   "cell_type": "code",
   "execution_count": 382,
   "metadata": {},
   "outputs": [],
   "source": [
    "def mean_approximation_error(y_real, y_pred):\n",
    "    return np.abs((y_real - y_pred) / y_real).mean()"
   ]
  },
  {
   "cell_type": "code",
   "execution_count": 383,
   "metadata": {},
   "outputs": [
    {
     "data": {
      "text/plain": [
       "0.11469251843561709"
      ]
     },
     "execution_count": 383,
     "metadata": {},
     "output_type": "execute_result"
    }
   ],
   "source": [
    "mean_approximation_error(y, z)"
   ]
  },
  {
   "cell_type": "markdown",
   "metadata": {},
   "source": [
    "Средняя ошибка аппроксимации 11%, теоретические значения статистически различимы с теми, которые выдает модель."
   ]
  },
  {
   "cell_type": "code",
   "execution_count": 384,
   "metadata": {},
   "outputs": [
    {
     "name": "stdout",
     "output_type": "stream",
     "text": [
      "                            OLS Regression Results                            \n",
      "==============================================================================\n",
      "Dep. Variable:                      y   R-squared:                       0.788\n",
      "Model:                            OLS   Adj. R-squared:                  0.761\n",
      "Method:                 Least Squares   F-statistic:                     29.67\n",
      "Date:                Mon, 23 Aug 2021   Prob (F-statistic):           0.000611\n",
      "Time:                        01:32:19   Log-Likelihood:                -58.064\n",
      "No. Observations:                  10   AIC:                             120.1\n",
      "Df Residuals:                       8   BIC:                             120.7\n",
      "Df Model:                           1                                         \n",
      "Covariance Type:            nonrobust                                         \n",
      "==============================================================================\n",
      "                 coef    std err          t      P>|t|      [0.025      0.975]\n",
      "------------------------------------------------------------------------------\n",
      "const        444.1774     56.466      7.866      0.000     313.965     574.389\n",
      "x1             2.6205      0.481      5.447      0.001       1.511       3.730\n",
      "==============================================================================\n",
      "Omnibus:                        1.365   Durbin-Watson:                   1.407\n",
      "Prob(Omnibus):                  0.505   Jarque-Bera (JB):                0.725\n",
      "Skew:                          -0.130   Prob(JB):                        0.696\n",
      "Kurtosis:                       1.707   Cond. No.                         233.\n",
      "==============================================================================\n",
      "\n",
      "Notes:\n",
      "[1] Standard Errors assume that the covariance matrix of the errors is correctly specified.\n"
     ]
    }
   ],
   "source": [
    "#статистическая информация о модели\n",
    "import statsmodels.api as sm\n",
    "model = sm.OLS(y, X)\n",
    "results = model.fit()\n",
    "print(results.summary())"
   ]
  }
 ],
 "metadata": {
  "kernelspec": {
   "display_name": "Python 3",
   "language": "python",
   "name": "python3"
  },
  "language_info": {
   "codemirror_mode": {
    "name": "ipython",
    "version": 3
   },
   "file_extension": ".py",
   "mimetype": "text/x-python",
   "name": "python",
   "nbconvert_exporter": "python",
   "pygments_lexer": "ipython3",
   "version": "3.8.5"
  }
 },
 "nbformat": 4,
 "nbformat_minor": 4
}
