{
 "cells": [
  {
   "cell_type": "code",
   "execution_count": 8,
   "metadata": {},
   "outputs": [],
   "source": [
    "import numpy as np\n",
    "from math import factorial\n",
    "import pandas as pd\n",
    "\n",
    "# Определим необходимые функции\n",
    "def combinations(n, k):\n",
    "    return int(factorial(n) / (factorial(k) * factorial(n - k)))\n",
    "\n",
    "#вероятность по Бернулли\n",
    "def posibilityB(n, k, p):\n",
    "    return combinations(n,k) * (p**k) * ((1-p)**(n-k))\n",
    "\n",
    "#вероятность по Пуассону\n",
    "def posibilityP(k, l):\n",
    "    return (l**k) * (np.exp(-1*l)) / factorial(k)"
   ]
  },
  {
   "cell_type": "markdown",
   "metadata": {},
   "source": [
    "# Домашня работа №2"
   ]
  },
  {
   "cell_type": "markdown",
   "metadata": {},
   "source": [
    "**№1**. Контрольная работа состоит из пяти вопросов. На каждый вопрос приведено четыре варианта ответа, один из которых правильный. Составьте закон распределения числа правильных ответов при простом угадывании. Найдите `M(X)`, `D(X)`."
   ]
  },
  {
   "cell_type": "code",
   "execution_count": 9,
   "metadata": {},
   "outputs": [
    {
     "name": "stdout",
     "output_type": "stream",
     "text": [
      "X -- число правильных ответов (дискретная случайная величина) \n",
      "\n",
      "X имеет биномиальное распределение, n = 5, p = 0.25 \n",
      "\n",
      "Математическое ожидание M(X) = 1.25 \n",
      "\n",
      "Дисперсия D(X) = 0.9375 \n",
      "\n",
      "Ряд распределения случайной величины X:\n"
     ]
    },
    {
     "data": {
      "text/html": [
       "<div>\n",
       "<style scoped>\n",
       "    .dataframe tbody tr th:only-of-type {\n",
       "        vertical-align: middle;\n",
       "    }\n",
       "\n",
       "    .dataframe tbody tr th {\n",
       "        vertical-align: top;\n",
       "    }\n",
       "\n",
       "    .dataframe thead th {\n",
       "        text-align: right;\n",
       "    }\n",
       "</style>\n",
       "<table border=\"1\" class=\"dataframe\">\n",
       "  <thead>\n",
       "    <tr style=\"text-align: right;\">\n",
       "      <th></th>\n",
       "      <th>0</th>\n",
       "      <th>1</th>\n",
       "      <th>2</th>\n",
       "      <th>3</th>\n",
       "      <th>4</th>\n",
       "      <th>5</th>\n",
       "    </tr>\n",
       "  </thead>\n",
       "  <tbody>\n",
       "    <tr>\n",
       "      <th>0</th>\n",
       "      <td>0.000000</td>\n",
       "      <td>1.000000</td>\n",
       "      <td>2.000000</td>\n",
       "      <td>3.000000</td>\n",
       "      <td>4.000000</td>\n",
       "      <td>5.000000</td>\n",
       "    </tr>\n",
       "    <tr>\n",
       "      <th>1</th>\n",
       "      <td>0.237305</td>\n",
       "      <td>0.395508</td>\n",
       "      <td>0.263672</td>\n",
       "      <td>0.087891</td>\n",
       "      <td>0.014648</td>\n",
       "      <td>0.000977</td>\n",
       "    </tr>\n",
       "  </tbody>\n",
       "</table>\n",
       "</div>"
      ],
      "text/plain": [
       "          0         1         2         3         4         5\n",
       "0  0.000000  1.000000  2.000000  3.000000  4.000000  5.000000\n",
       "1  0.237305  0.395508  0.263672  0.087891  0.014648  0.000977"
      ]
     },
     "execution_count": 9,
     "metadata": {},
     "output_type": "execute_result"
    }
   ],
   "source": [
    "n = 5 # -- количество вопросов\n",
    "p = 1 / 4 # -- вероятность правильного ответа на вопрос\n",
    "q = 1 - p # -- вероятность неправильного ответа на вопрос\n",
    "\n",
    "print('X -- число правильных ответов (дискретная случайная величина) \\n')\n",
    "print(f'X имеет биномиальное распределение, n = {n}, p = {p} \\n')\n",
    "\n",
    "x_values = np.arange(0, 6) # значения случайной величины\n",
    "\n",
    "x_probabilities = np.array([posibilityB(n, i, p) for i in x_values]) # вероятности значений случайной величины\n",
    "\n",
    "distribution_law = pd.DataFrame([x_values,x_probabilities])\n",
    "\n",
    "#MX = x_values.dot(x_probabilities)  \n",
    "# Для биномиального распределения MX =  n*p\n",
    "print(f'Математическое ожидание M(X) = {n*p} \\n')\n",
    "\n",
    "#DX =((x_values - MX)**2).dot(x_probabilities)  \n",
    "# Для биномиального распределения DX = n*p*q\n",
    "print(f'Дисперсия D(X) = {n*p*q} \\n')\n",
    "\n",
    "print('Ряд распределения случайной величины X:')\n",
    "distribution_law"
   ]
  },
  {
   "cell_type": "markdown",
   "metadata": {},
   "source": [
    "**№2**. Вероятность попадания в цель при одном выстреле равна 0.01. Какова вероятность того, что число попаданий при 200 выстрелах будет не менее 5 и не более 10?"
   ]
  },
  {
   "cell_type": "code",
   "execution_count": 11,
   "metadata": {},
   "outputs": [
    {
     "name": "stdout",
     "output_type": "stream",
     "text": [
      "X -- число попаданий при 200 выстрелах \n",
      "\n",
      "Вероятность того, что число попаданий при 200 выстрелах будет не менее 5 и не более 10 \n",
      "\n",
      "P(5<=X<=10) = P(X=5) + P(X=6) + ... + P(X=10) = 0.052644709119342686\n"
     ]
    }
   ],
   "source": [
    "# случай распределения Пуассона (большое число испытаний и маленькая вероятность успеха в каждом)\n",
    "\n",
    "n = 200 # -- количество выстрелов\n",
    "p = 0.01 # -- вероятность попадания в цель при одном выстреле\n",
    "l = n*p\n",
    "\n",
    "print('X -- число попаданий при 200 выстрелах \\n')\n",
    "\n",
    "x_values = np.arange(5, 11) # значения случайной величины\n",
    "x_probabilities = np.array([posibilityP(i, l) for i in x_values]) # вероятности значений случайной величины\n",
    "\n",
    "print(f'Вероятность того, что число попаданий при 200 выстрелах будет не менее 5 и не более 10 \\n')\n",
    "print(f'P(5<=X<=10) = P(X=5) + P(X=6) + ... + P(X=10) = {sum(x_probabilities)}')"
   ]
  },
  {
   "cell_type": "code",
   "execution_count": 12,
   "metadata": {},
   "outputs": [
    {
     "name": "stdout",
     "output_type": "stream",
     "text": [
      "X -- число попаданий при 200 выстрелах (дискретная случайная величина) \n",
      "\n",
      "X имеет биномиальное распределение, n = 200, p = 0.01 \n",
      "\n",
      "Вероятность того, что число попаданий при 200 выстрелах будет не менее 5 и не более 10 \n",
      "\n",
      "P(5<=X<=10) = P(X=5) + P(X=6) + ... + P(X=10) = 0.051739381860374606\n"
     ]
    }
   ],
   "source": [
    "# случай биномиального распределения\n",
    "\n",
    "n = 200 \n",
    "p = 0.01 \n",
    "\n",
    "print('X -- число попаданий при 200 выстрелах (дискретная случайная величина) \\n')\n",
    "print(f'X имеет биномиальное распределение, n = {n}, p = {p} \\n')\n",
    "\n",
    "x_values = np.arange(5, 11)\n",
    "x_probabilities = np.array([posibilityB(n,i,p) for i in x_values]) \n",
    "\n",
    "print(f'Вероятность того, что число попаданий при 200 выстрелах будет не менее 5 и не более 10 \\n')\n",
    "print(f'P(5<=X<=10) = P(X=5) + P(X=6) + ... + P(X=10) = {sum(x_probabilities)}')"
   ]
  },
  {
   "cell_type": "markdown",
   "metadata": {},
   "source": [
    "**№3**.В условиях предыдущей задачи сколько выстрелов нужно сделать чтобы быть уверенным с вероятностью 0.9, что хотя бы 10 раз будет совершено попадание?\n",
    "\n",
    "_Подсказка_. Как посчитать `P(X >= k)` для величины `X`, имеющей распределение Пуассона? Здесь предстоит немножко покодить."
   ]
  },
  {
   "cell_type": "code",
   "execution_count": 14,
   "metadata": {},
   "outputs": [
    {
     "name": "stdout",
     "output_type": "stream",
     "text": [
      "Количество выстрелов n >= 1421\n",
      "P(x>=10) = 1 - P(X<10) = 0.9001760722984115\n"
     ]
    }
   ],
   "source": [
    "p = 0.01 \n",
    "n = 10     # n>=10 -- число выстрелов\n",
    "P = 0\n",
    "\n",
    "while P < 0.9:\n",
    "    x_values = np.arange(0, 10) # выстрелы меньше 10\n",
    "    l = n*p\n",
    "    x_probabilities = np.array([posibilityP(i, l) for i in x_values]) # вероятности таких выстрелов\n",
    "    P = 1 - sum(x_probabilities)\n",
    "    n = n + 1\n",
    "\n",
    "print(f'Количество выстрелов n >= {n - 1}')\n",
    "print(f'P(x>=10) = 1 - P(X<10) = {P}')\n",
    "\n",
    "#distribution_law = pd.DataFrame([x_values,x_probabilities])\n",
    "#distribution_law"
   ]
  },
  {
   "cell_type": "code",
   "execution_count": 28,
   "metadata": {},
   "outputs": [
    {
     "name": "stdout",
     "output_type": "stream",
     "text": [
      "0.9001760722984115\n"
     ]
    }
   ],
   "source": [
    "# Проверка\n",
    "n = 1421\n",
    "p = 0.01\n",
    "\n",
    "P = 1 - sum(posibilityP(i, n*p) for i in range(10))\n",
    "\n",
    "print(P)"
   ]
  }
 ],
 "metadata": {
  "kernelspec": {
   "display_name": "Python 3",
   "language": "python",
   "name": "python3"
  },
  "language_info": {
   "codemirror_mode": {
    "name": "ipython",
    "version": 3
   },
   "file_extension": ".py",
   "mimetype": "text/x-python",
   "name": "python",
   "nbconvert_exporter": "python",
   "pygments_lexer": "ipython3",
   "version": "3.8.5"
  }
 },
 "nbformat": 4,
 "nbformat_minor": 4
}
